{
 "cells": [
  {
   "cell_type": "code",
   "execution_count": 1,
   "metadata": {
    "colab": {},
    "colab_type": "code",
    "id": "7O-q-HQKfZu0"
   },
   "outputs": [
    {
     "name": "stderr",
     "output_type": "stream",
     "text": [
      "/home/jovyan/work/local/trainers.py:3: TqdmExperimentalWarning: Using `tqdm.autonotebook.tqdm` in notebook mode. Use `tqdm.tqdm` instead to force console mode (e.g. in jupyter console)\n",
      "  from tqdm.autonotebook import tqdm\n"
     ]
    }
   ],
   "source": [
    "from ssgan_exp import make_trainer, make_parser, set_seed"
   ]
  },
  {
   "cell_type": "code",
   "execution_count": 2,
   "metadata": {
    "colab": {},
    "colab_type": "code",
    "id": "pcdycS00lSsC"
   },
   "outputs": [],
   "source": [
    "import pandas as pd\n",
    "import torch\n",
    "use_cuda = torch.cuda.is_available()\n",
    "device = torch.device('cuda:0' if use_cuda else 'cpu')"
   ]
  },
  {
   "cell_type": "code",
   "execution_count": 3,
   "metadata": {
    "colab": {},
    "colab_type": "code",
    "id": "CabdoOQ3f5L8"
   },
   "outputs": [
    {
     "name": "stdout",
     "output_type": "stream",
     "text": [
      "Namespace(batch_size=64, dataset='mnist', epochs=10, eq_union=True, feature_matching=True, gen_final_act=None, load_ckpt='./e10_ckpt_ssgan_mnist_perclabeled0,00167_noisesize100_noiseuniform_lr0,003_featmatch1_weightnorm1_gfaNone_equnion1_seed1000.pth', lr=0.003, noise_dist='uniform', noise_size=100, perc_labeled=0.00167, seed=1000, weight_norm=True)\n"
     ]
    }
   ],
   "source": [
    "parser = make_parser()\n",
    "cmd_args = 'p --dataset mnist --epochs 10 --perc_labeled 0.00167 --lr 0.003 --noise_dist uniform --use_weight_norm --load_ckpt ./e10_ckpt_ssgan_mnist_perclabeled0,00167_noisesize100_noiseuniform_lr0,003_featmatch1_weightnorm1_gfaNone_equnion1_seed1000.pth'\n",
    "# cmd_args = 'p --dataset mreo --epochs 100 --perc_labeled 0.08 --lr 0.0006 --noise_dist normal --no_eq_union'\n",
    "\n",
    "args = parser.parse_args(cmd_args.split(' ')[1:])\n",
    "print(args)\n",
    "set_seed(args.seed, use_cuda=use_cuda)"
   ]
  },
  {
   "cell_type": "code",
   "execution_count": 4,
   "metadata": {
    "colab": {},
    "colab_type": "code",
    "id": "jzp9w55BhG5e"
   },
   "outputs": [
    {
     "name": "stdout",
     "output_type": "stream",
     "text": [
      "dataset sizes: train 60000, test 10000\n",
      "perc labeled: 0.00167, num labeled: 100, num unlabeled: 59900, labeled_i: 60000\n",
      "{0: 0, 1: 1, 2: 2, 3: 3, 4: 4, 5: 5, 6: 6, 7: 7, 8: 8, 'fake': 9}\n"
     ]
    }
   ],
   "source": [
    "t = make_trainer(args, to_viz=True)"
   ]
  },
  {
   "cell_type": "code",
   "execution_count": 5,
   "metadata": {
    "colab": {},
    "colab_type": "code",
    "id": "JELKrFlnhIk2"
   },
   "outputs": [
    {
     "name": "stdout",
     "output_type": "stream",
     "text": [
      "exp ckpt_ssgan_mnist_perclabeled0,00167_noisesize100_noiseuniform_lr0,003_featmatch1_weightnorm1_gfaNone_equnion1_seed1000\n"
     ]
    }
   ],
   "source": [
    "s = 'ckpt_ssgan_{}_perclabeled{}_noisesize{}_noise{}_lr{}_featmatch{}_weightnorm{}_gfa{}_equnion{}_seed{}'.format(args.dataset, \\\n",
    "     args.perc_labeled, args.noise_size, args.noise_dist, args.lr,\n",
    "     int(args.feature_matching), int(args.weight_norm), args.gen_final_act,\n",
    "     int(args.eq_union), args.seed)\n",
    "s = s.replace('.', ',')\n",
    "print('exp', s)"
   ]
  },
  {
   "cell_type": "code",
   "execution_count": 6,
   "metadata": {
    "colab": {},
    "colab_type": "code",
    "id": "DOOQZ9AXhLdQ"
   },
   "outputs": [],
   "source": [
    "if args.load_ckpt: t.load(args.load_ckpt)"
   ]
  },
  {
   "cell_type": "code",
   "execution_count": 7,
   "metadata": {
    "colab": {},
    "colab_type": "code",
    "id": "Qs39OjuRhXlv"
   },
   "outputs": [],
   "source": [
    "from bokeh.io import output_notebook\n",
    "from bokeh.plotting import show\n",
    "from bokeh.layouts import gridplot"
   ]
  },
  {
   "cell_type": "code",
   "execution_count": 8,
   "metadata": {
    "colab": {},
    "colab_type": "code",
    "id": "yk0K-szZhbR4"
   },
   "outputs": [
    {
     "data": {
      "text/html": [
       "\n",
       "    <div class=\"bk-root\">\n",
       "        <a href=\"https://bokeh.org\" target=\"_blank\" class=\"bk-logo bk-logo-small bk-logo-notebook\"></a>\n",
       "        <span id=\"1003\">Loading BokehJS ...</span>\n",
       "    </div>"
      ]
     },
     "metadata": {},
     "output_type": "display_data"
    },
    {
     "data": {
      "application/javascript": [
       "\n",
       "(function(root) {\n",
       "  function now() {\n",
       "    return new Date();\n",
       "  }\n",
       "\n",
       "  var force = true;\n",
       "\n",
       "  if (typeof root._bokeh_onload_callbacks === \"undefined\" || force === true) {\n",
       "    root._bokeh_onload_callbacks = [];\n",
       "    root._bokeh_is_loading = undefined;\n",
       "  }\n",
       "\n",
       "  var JS_MIME_TYPE = 'application/javascript';\n",
       "  var HTML_MIME_TYPE = 'text/html';\n",
       "  var EXEC_MIME_TYPE = 'application/vnd.bokehjs_exec.v0+json';\n",
       "  var CLASS_NAME = 'output_bokeh rendered_html';\n",
       "\n",
       "  /**\n",
       "   * Render data to the DOM node\n",
       "   */\n",
       "  function render(props, node) {\n",
       "    var script = document.createElement(\"script\");\n",
       "    node.appendChild(script);\n",
       "  }\n",
       "\n",
       "  /**\n",
       "   * Handle when an output is cleared or removed\n",
       "   */\n",
       "  function handleClearOutput(event, handle) {\n",
       "    var cell = handle.cell;\n",
       "\n",
       "    var id = cell.output_area._bokeh_element_id;\n",
       "    var server_id = cell.output_area._bokeh_server_id;\n",
       "    // Clean up Bokeh references\n",
       "    if (id != null && id in Bokeh.index) {\n",
       "      Bokeh.index[id].model.document.clear();\n",
       "      delete Bokeh.index[id];\n",
       "    }\n",
       "\n",
       "    if (server_id !== undefined) {\n",
       "      // Clean up Bokeh references\n",
       "      var cmd = \"from bokeh.io.state import curstate; print(curstate().uuid_to_server['\" + server_id + \"'].get_sessions()[0].document.roots[0]._id)\";\n",
       "      cell.notebook.kernel.execute(cmd, {\n",
       "        iopub: {\n",
       "          output: function(msg) {\n",
       "            var id = msg.content.text.trim();\n",
       "            if (id in Bokeh.index) {\n",
       "              Bokeh.index[id].model.document.clear();\n",
       "              delete Bokeh.index[id];\n",
       "            }\n",
       "          }\n",
       "        }\n",
       "      });\n",
       "      // Destroy server and session\n",
       "      var cmd = \"import bokeh.io.notebook as ion; ion.destroy_server('\" + server_id + \"')\";\n",
       "      cell.notebook.kernel.execute(cmd);\n",
       "    }\n",
       "  }\n",
       "\n",
       "  /**\n",
       "   * Handle when a new output is added\n",
       "   */\n",
       "  function handleAddOutput(event, handle) {\n",
       "    var output_area = handle.output_area;\n",
       "    var output = handle.output;\n",
       "\n",
       "    // limit handleAddOutput to display_data with EXEC_MIME_TYPE content only\n",
       "    if ((output.output_type != \"display_data\") || (!output.data.hasOwnProperty(EXEC_MIME_TYPE))) {\n",
       "      return\n",
       "    }\n",
       "\n",
       "    var toinsert = output_area.element.find(\".\" + CLASS_NAME.split(' ')[0]);\n",
       "\n",
       "    if (output.metadata[EXEC_MIME_TYPE][\"id\"] !== undefined) {\n",
       "      toinsert[toinsert.length - 1].firstChild.textContent = output.data[JS_MIME_TYPE];\n",
       "      // store reference to embed id on output_area\n",
       "      output_area._bokeh_element_id = output.metadata[EXEC_MIME_TYPE][\"id\"];\n",
       "    }\n",
       "    if (output.metadata[EXEC_MIME_TYPE][\"server_id\"] !== undefined) {\n",
       "      var bk_div = document.createElement(\"div\");\n",
       "      bk_div.innerHTML = output.data[HTML_MIME_TYPE];\n",
       "      var script_attrs = bk_div.children[0].attributes;\n",
       "      for (var i = 0; i < script_attrs.length; i++) {\n",
       "        toinsert[toinsert.length - 1].firstChild.setAttribute(script_attrs[i].name, script_attrs[i].value);\n",
       "      }\n",
       "      // store reference to server id on output_area\n",
       "      output_area._bokeh_server_id = output.metadata[EXEC_MIME_TYPE][\"server_id\"];\n",
       "    }\n",
       "  }\n",
       "\n",
       "  function register_renderer(events, OutputArea) {\n",
       "\n",
       "    function append_mime(data, metadata, element) {\n",
       "      // create a DOM node to render to\n",
       "      var toinsert = this.create_output_subarea(\n",
       "        metadata,\n",
       "        CLASS_NAME,\n",
       "        EXEC_MIME_TYPE\n",
       "      );\n",
       "      this.keyboard_manager.register_events(toinsert);\n",
       "      // Render to node\n",
       "      var props = {data: data, metadata: metadata[EXEC_MIME_TYPE]};\n",
       "      render(props, toinsert[toinsert.length - 1]);\n",
       "      element.append(toinsert);\n",
       "      return toinsert\n",
       "    }\n",
       "\n",
       "    /* Handle when an output is cleared or removed */\n",
       "    events.on('clear_output.CodeCell', handleClearOutput);\n",
       "    events.on('delete.Cell', handleClearOutput);\n",
       "\n",
       "    /* Handle when a new output is added */\n",
       "    events.on('output_added.OutputArea', handleAddOutput);\n",
       "\n",
       "    /**\n",
       "     * Register the mime type and append_mime function with output_area\n",
       "     */\n",
       "    OutputArea.prototype.register_mime_type(EXEC_MIME_TYPE, append_mime, {\n",
       "      /* Is output safe? */\n",
       "      safe: true,\n",
       "      /* Index of renderer in `output_area.display_order` */\n",
       "      index: 0\n",
       "    });\n",
       "  }\n",
       "\n",
       "  // register the mime type if in Jupyter Notebook environment and previously unregistered\n",
       "  if (root.Jupyter !== undefined) {\n",
       "    var events = require('base/js/events');\n",
       "    var OutputArea = require('notebook/js/outputarea').OutputArea;\n",
       "\n",
       "    if (OutputArea.prototype.mime_types().indexOf(EXEC_MIME_TYPE) == -1) {\n",
       "      register_renderer(events, OutputArea);\n",
       "    }\n",
       "  }\n",
       "\n",
       "  \n",
       "  if (typeof (root._bokeh_timeout) === \"undefined\" || force === true) {\n",
       "    root._bokeh_timeout = Date.now() + 5000;\n",
       "    root._bokeh_failed_load = false;\n",
       "  }\n",
       "\n",
       "  var NB_LOAD_WARNING = {'data': {'text/html':\n",
       "     \"<div style='background-color: #fdd'>\\n\"+\n",
       "     \"<p>\\n\"+\n",
       "     \"BokehJS does not appear to have successfully loaded. If loading BokehJS from CDN, this \\n\"+\n",
       "     \"may be due to a slow or bad network connection. Possible fixes:\\n\"+\n",
       "     \"</p>\\n\"+\n",
       "     \"<ul>\\n\"+\n",
       "     \"<li>re-rerun `output_notebook()` to attempt to load from CDN again, or</li>\\n\"+\n",
       "     \"<li>use INLINE resources instead, as so:</li>\\n\"+\n",
       "     \"</ul>\\n\"+\n",
       "     \"<code>\\n\"+\n",
       "     \"from bokeh.resources import INLINE\\n\"+\n",
       "     \"output_notebook(resources=INLINE)\\n\"+\n",
       "     \"</code>\\n\"+\n",
       "     \"</div>\"}};\n",
       "\n",
       "  function display_loaded() {\n",
       "    var el = document.getElementById(\"1003\");\n",
       "    if (el != null) {\n",
       "      el.textContent = \"BokehJS is loading...\";\n",
       "    }\n",
       "    if (root.Bokeh !== undefined) {\n",
       "      if (el != null) {\n",
       "        el.textContent = \"BokehJS \" + root.Bokeh.version + \" successfully loaded.\";\n",
       "      }\n",
       "    } else if (Date.now() < root._bokeh_timeout) {\n",
       "      setTimeout(display_loaded, 100)\n",
       "    }\n",
       "  }\n",
       "\n",
       "\n",
       "  function run_callbacks() {\n",
       "    try {\n",
       "      root._bokeh_onload_callbacks.forEach(function(callback) {\n",
       "        if (callback != null)\n",
       "          callback();\n",
       "      });\n",
       "    } finally {\n",
       "      delete root._bokeh_onload_callbacks\n",
       "    }\n",
       "    console.debug(\"Bokeh: all callbacks have finished\");\n",
       "  }\n",
       "\n",
       "  function load_libs(css_urls, js_urls, callback) {\n",
       "    if (css_urls == null) css_urls = [];\n",
       "    if (js_urls == null) js_urls = [];\n",
       "\n",
       "    root._bokeh_onload_callbacks.push(callback);\n",
       "    if (root._bokeh_is_loading > 0) {\n",
       "      console.debug(\"Bokeh: BokehJS is being loaded, scheduling callback at\", now());\n",
       "      return null;\n",
       "    }\n",
       "    if (js_urls == null || js_urls.length === 0) {\n",
       "      run_callbacks();\n",
       "      return null;\n",
       "    }\n",
       "    console.debug(\"Bokeh: BokehJS not loaded, scheduling load and callback at\", now());\n",
       "    root._bokeh_is_loading = css_urls.length + js_urls.length;\n",
       "\n",
       "    function on_load() {\n",
       "      root._bokeh_is_loading--;\n",
       "      if (root._bokeh_is_loading === 0) {\n",
       "        console.debug(\"Bokeh: all BokehJS libraries/stylesheets loaded\");\n",
       "        run_callbacks()\n",
       "      }\n",
       "    }\n",
       "\n",
       "    function on_error() {\n",
       "      console.error(\"failed to load \" + url);\n",
       "    }\n",
       "\n",
       "    for (var i = 0; i < css_urls.length; i++) {\n",
       "      var url = css_urls[i];\n",
       "      const element = document.createElement(\"link\");\n",
       "      element.onload = on_load;\n",
       "      element.onerror = on_error;\n",
       "      element.rel = \"stylesheet\";\n",
       "      element.type = \"text/css\";\n",
       "      element.href = url;\n",
       "      console.debug(\"Bokeh: injecting link tag for BokehJS stylesheet: \", url);\n",
       "      document.body.appendChild(element);\n",
       "    }\n",
       "\n",
       "    for (var i = 0; i < js_urls.length; i++) {\n",
       "      var url = js_urls[i];\n",
       "      var element = document.createElement('script');\n",
       "      element.onload = on_load;\n",
       "      element.onerror = on_error;\n",
       "      element.async = false;\n",
       "      element.src = url;\n",
       "      console.debug(\"Bokeh: injecting script tag for BokehJS library: \", url);\n",
       "      document.head.appendChild(element);\n",
       "    }\n",
       "  };var element = document.getElementById(\"1003\");\n",
       "  if (element == null) {\n",
       "    console.error(\"Bokeh: ERROR: autoload.js configured with elementid '1003' but no matching script tag was found. \")\n",
       "    return false;\n",
       "  }\n",
       "\n",
       "  function inject_raw_css(css) {\n",
       "    const element = document.createElement(\"style\");\n",
       "    element.appendChild(document.createTextNode(css));\n",
       "    document.body.appendChild(element);\n",
       "  }\n",
       "\n",
       "  \n",
       "  var js_urls = [\"https://cdn.pydata.org/bokeh/release/bokeh-1.4.0.min.js\", \"https://cdn.pydata.org/bokeh/release/bokeh-widgets-1.4.0.min.js\", \"https://cdn.pydata.org/bokeh/release/bokeh-tables-1.4.0.min.js\", \"https://cdn.pydata.org/bokeh/release/bokeh-gl-1.4.0.min.js\"];\n",
       "  var css_urls = [];\n",
       "  \n",
       "\n",
       "  var inline_js = [\n",
       "    function(Bokeh) {\n",
       "      Bokeh.set_log_level(\"info\");\n",
       "    },\n",
       "    function(Bokeh) {\n",
       "    \n",
       "    \n",
       "    }\n",
       "  ];\n",
       "\n",
       "  function run_inline_js() {\n",
       "    \n",
       "    if (root.Bokeh !== undefined || force === true) {\n",
       "      \n",
       "    for (var i = 0; i < inline_js.length; i++) {\n",
       "      inline_js[i].call(root, root.Bokeh);\n",
       "    }\n",
       "    if (force === true) {\n",
       "        display_loaded();\n",
       "      }} else if (Date.now() < root._bokeh_timeout) {\n",
       "      setTimeout(run_inline_js, 100);\n",
       "    } else if (!root._bokeh_failed_load) {\n",
       "      console.log(\"Bokeh: BokehJS failed to load within specified timeout.\");\n",
       "      root._bokeh_failed_load = true;\n",
       "    } else if (force !== true) {\n",
       "      var cell = $(document.getElementById(\"1003\")).parents('.cell').data().cell;\n",
       "      cell.output_area.append_execute_result(NB_LOAD_WARNING)\n",
       "    }\n",
       "\n",
       "  }\n",
       "\n",
       "  if (root._bokeh_is_loading === 0) {\n",
       "    console.debug(\"Bokeh: BokehJS loaded, going straight to plotting\");\n",
       "    run_inline_js();\n",
       "  } else {\n",
       "    load_libs(css_urls, js_urls, function() {\n",
       "      console.debug(\"Bokeh: BokehJS plotting callback run at\", now());\n",
       "      run_inline_js();\n",
       "    });\n",
       "  }\n",
       "}(window));"
      ],
      "application/vnd.bokehjs_load.v0+json": "\n(function(root) {\n  function now() {\n    return new Date();\n  }\n\n  var force = true;\n\n  if (typeof root._bokeh_onload_callbacks === \"undefined\" || force === true) {\n    root._bokeh_onload_callbacks = [];\n    root._bokeh_is_loading = undefined;\n  }\n\n  \n\n  \n  if (typeof (root._bokeh_timeout) === \"undefined\" || force === true) {\n    root._bokeh_timeout = Date.now() + 5000;\n    root._bokeh_failed_load = false;\n  }\n\n  var NB_LOAD_WARNING = {'data': {'text/html':\n     \"<div style='background-color: #fdd'>\\n\"+\n     \"<p>\\n\"+\n     \"BokehJS does not appear to have successfully loaded. If loading BokehJS from CDN, this \\n\"+\n     \"may be due to a slow or bad network connection. Possible fixes:\\n\"+\n     \"</p>\\n\"+\n     \"<ul>\\n\"+\n     \"<li>re-rerun `output_notebook()` to attempt to load from CDN again, or</li>\\n\"+\n     \"<li>use INLINE resources instead, as so:</li>\\n\"+\n     \"</ul>\\n\"+\n     \"<code>\\n\"+\n     \"from bokeh.resources import INLINE\\n\"+\n     \"output_notebook(resources=INLINE)\\n\"+\n     \"</code>\\n\"+\n     \"</div>\"}};\n\n  function display_loaded() {\n    var el = document.getElementById(\"1003\");\n    if (el != null) {\n      el.textContent = \"BokehJS is loading...\";\n    }\n    if (root.Bokeh !== undefined) {\n      if (el != null) {\n        el.textContent = \"BokehJS \" + root.Bokeh.version + \" successfully loaded.\";\n      }\n    } else if (Date.now() < root._bokeh_timeout) {\n      setTimeout(display_loaded, 100)\n    }\n  }\n\n\n  function run_callbacks() {\n    try {\n      root._bokeh_onload_callbacks.forEach(function(callback) {\n        if (callback != null)\n          callback();\n      });\n    } finally {\n      delete root._bokeh_onload_callbacks\n    }\n    console.debug(\"Bokeh: all callbacks have finished\");\n  }\n\n  function load_libs(css_urls, js_urls, callback) {\n    if (css_urls == null) css_urls = [];\n    if (js_urls == null) js_urls = [];\n\n    root._bokeh_onload_callbacks.push(callback);\n    if (root._bokeh_is_loading > 0) {\n      console.debug(\"Bokeh: BokehJS is being loaded, scheduling callback at\", now());\n      return null;\n    }\n    if (js_urls == null || js_urls.length === 0) {\n      run_callbacks();\n      return null;\n    }\n    console.debug(\"Bokeh: BokehJS not loaded, scheduling load and callback at\", now());\n    root._bokeh_is_loading = css_urls.length + js_urls.length;\n\n    function on_load() {\n      root._bokeh_is_loading--;\n      if (root._bokeh_is_loading === 0) {\n        console.debug(\"Bokeh: all BokehJS libraries/stylesheets loaded\");\n        run_callbacks()\n      }\n    }\n\n    function on_error() {\n      console.error(\"failed to load \" + url);\n    }\n\n    for (var i = 0; i < css_urls.length; i++) {\n      var url = css_urls[i];\n      const element = document.createElement(\"link\");\n      element.onload = on_load;\n      element.onerror = on_error;\n      element.rel = \"stylesheet\";\n      element.type = \"text/css\";\n      element.href = url;\n      console.debug(\"Bokeh: injecting link tag for BokehJS stylesheet: \", url);\n      document.body.appendChild(element);\n    }\n\n    for (var i = 0; i < js_urls.length; i++) {\n      var url = js_urls[i];\n      var element = document.createElement('script');\n      element.onload = on_load;\n      element.onerror = on_error;\n      element.async = false;\n      element.src = url;\n      console.debug(\"Bokeh: injecting script tag for BokehJS library: \", url);\n      document.head.appendChild(element);\n    }\n  };var element = document.getElementById(\"1003\");\n  if (element == null) {\n    console.error(\"Bokeh: ERROR: autoload.js configured with elementid '1003' but no matching script tag was found. \")\n    return false;\n  }\n\n  function inject_raw_css(css) {\n    const element = document.createElement(\"style\");\n    element.appendChild(document.createTextNode(css));\n    document.body.appendChild(element);\n  }\n\n  \n  var js_urls = [\"https://cdn.pydata.org/bokeh/release/bokeh-1.4.0.min.js\", \"https://cdn.pydata.org/bokeh/release/bokeh-widgets-1.4.0.min.js\", \"https://cdn.pydata.org/bokeh/release/bokeh-tables-1.4.0.min.js\", \"https://cdn.pydata.org/bokeh/release/bokeh-gl-1.4.0.min.js\"];\n  var css_urls = [];\n  \n\n  var inline_js = [\n    function(Bokeh) {\n      Bokeh.set_log_level(\"info\");\n    },\n    function(Bokeh) {\n    \n    \n    }\n  ];\n\n  function run_inline_js() {\n    \n    if (root.Bokeh !== undefined || force === true) {\n      \n    for (var i = 0; i < inline_js.length; i++) {\n      inline_js[i].call(root, root.Bokeh);\n    }\n    if (force === true) {\n        display_loaded();\n      }} else if (Date.now() < root._bokeh_timeout) {\n      setTimeout(run_inline_js, 100);\n    } else if (!root._bokeh_failed_load) {\n      console.log(\"Bokeh: BokehJS failed to load within specified timeout.\");\n      root._bokeh_failed_load = true;\n    } else if (force !== true) {\n      var cell = $(document.getElementById(\"1003\")).parents('.cell').data().cell;\n      cell.output_area.append_execute_result(NB_LOAD_WARNING)\n    }\n\n  }\n\n  if (root._bokeh_is_loading === 0) {\n    console.debug(\"Bokeh: BokehJS loaded, going straight to plotting\");\n    run_inline_js();\n  } else {\n    load_libs(css_urls, js_urls, function() {\n      console.debug(\"Bokeh: BokehJS plotting callback run at\", now());\n      run_inline_js();\n    });\n  }\n}(window));"
     },
     "metadata": {},
     "output_type": "display_data"
    },
    {
     "data": {
      "text/html": [
       "\n",
       "\n",
       "\n",
       "\n",
       "\n",
       "\n",
       "  <div class=\"bk-root\" id=\"9367f5ea-32d8-45bd-ae16-2cd083f592c8\" data-root-id=\"1449\"></div>\n"
      ]
     },
     "metadata": {},
     "output_type": "display_data"
    },
    {
     "data": {
      "application/javascript": [
       "(function(root) {\n",
       "  function embed_document(root) {\n",
       "    \n",
       "  var docs_json = {\"a7c5007e-5900-4d25-9deb-a2a0fd62d62a\":{\"roots\":{\"references\":[{\"attributes\":{\"children\":[{\"id\":\"1448\",\"type\":\"ToolbarBox\"},{\"id\":\"1446\",\"type\":\"GridBox\"}]},\"id\":\"1449\",\"type\":\"Column\"},{\"attributes\":{\"text\":\"FakeAccuracy\"},\"id\":\"1073\",\"type\":\"Title\"},{\"attributes\":{\"callback\":null},\"id\":\"1266\",\"type\":\"DataRange1d\"},{\"attributes\":{\"fill_alpha\":{\"value\":0.85},\"fill_color\":{\"value\":\"#E69F00\"},\"line_alpha\":{\"value\":0.85},\"line_color\":{\"value\":\"#E69F00\"},\"marker\":{\"value\":\"triangle\"},\"size\":{\"units\":\"screen\",\"value\":7},\"x\":{\"field\":\"epoch\"},\"y\":{\"field\":\"AverageAccuracy\"}},\"id\":\"1058\",\"type\":\"Scatter\"},{\"attributes\":{},\"id\":\"1268\",\"type\":\"LinearScale\"},{\"attributes\":{\"fill_alpha\":{\"value\":0.1},\"fill_color\":{\"value\":\"#1f77b4\"},\"line_alpha\":{\"value\":0.1},\"line_color\":{\"value\":\"#1f77b4\"},\"marker\":{\"value\":\"triangle\"},\"size\":{\"units\":\"screen\",\"value\":7},\"x\":{\"field\":\"epoch\"},\"y\":{\"field\":\"AverageAccuracy\"}},\"id\":\"1059\",\"type\":\"Scatter\"},{\"attributes\":{},\"id\":\"1270\",\"type\":\"LinearScale\"},{\"attributes\":{\"data_source\":{\"id\":\"1002\",\"type\":\"ColumnDataSource\"},\"glyph\":{\"id\":\"1058\",\"type\":\"Scatter\"},\"hover_glyph\":null,\"muted_glyph\":null,\"nonselection_glyph\":{\"id\":\"1059\",\"type\":\"Scatter\"},\"selection_glyph\":null,\"view\":{\"id\":\"1007\",\"type\":\"CDSView\"}},\"id\":\"1060\",\"type\":\"GlyphRenderer\"},{\"attributes\":{\"formatter\":{\"id\":\"1303\",\"type\":\"BasicTickFormatter\"},\"ticker\":{\"id\":\"1273\",\"type\":\"BasicTicker\"}},\"id\":\"1272\",\"type\":\"LinearAxis\"},{\"attributes\":{},\"id\":\"1273\",\"type\":\"BasicTicker\"},{\"attributes\":{},\"id\":\"1067\",\"type\":\"Selection\"},{\"attributes\":{\"ticker\":{\"id\":\"1273\",\"type\":\"BasicTicker\"}},\"id\":\"1276\",\"type\":\"Grid\"},{\"attributes\":{\"label\":{\"value\":\"test\"},\"renderers\":[{\"id\":\"1060\",\"type\":\"GlyphRenderer\"}]},\"id\":\"1070\",\"type\":\"LegendItem\"},{\"attributes\":{\"formatter\":{\"id\":\"1301\",\"type\":\"BasicTickFormatter\"},\"ticker\":{\"id\":\"1278\",\"type\":\"BasicTicker\"}},\"id\":\"1277\",\"type\":\"LinearAxis\"},{\"attributes\":{\"callback\":null},\"id\":\"1075\",\"type\":\"DataRange1d\"},{\"attributes\":{},\"id\":\"1278\",\"type\":\"BasicTicker\"},{\"attributes\":{\"callback\":null},\"id\":\"1077\",\"type\":\"DataRange1d\"},{\"attributes\":{\"dimension\":1,\"ticker\":{\"id\":\"1278\",\"type\":\"BasicTicker\"}},\"id\":\"1281\",\"type\":\"Grid\"},{\"attributes\":{},\"id\":\"1079\",\"type\":\"LinearScale\"},{\"attributes\":{\"tools\":[{\"id\":\"1030\",\"type\":\"PanTool\"},{\"id\":\"1031\",\"type\":\"BoxZoomTool\"},{\"id\":\"1032\",\"type\":\"TapTool\"},{\"id\":\"1033\",\"type\":\"LassoSelectTool\"},{\"id\":\"1034\",\"type\":\"SaveTool\"},{\"id\":\"1035\",\"type\":\"ResetTool\"},{\"id\":\"1008\",\"type\":\"HoverTool\"},{\"id\":\"1093\",\"type\":\"PanTool\"},{\"id\":\"1094\",\"type\":\"BoxZoomTool\"},{\"id\":\"1095\",\"type\":\"TapTool\"},{\"id\":\"1096\",\"type\":\"LassoSelectTool\"},{\"id\":\"1097\",\"type\":\"SaveTool\"},{\"id\":\"1098\",\"type\":\"ResetTool\"},{\"id\":\"1071\",\"type\":\"HoverTool\"},{\"id\":\"1156\",\"type\":\"PanTool\"},{\"id\":\"1157\",\"type\":\"BoxZoomTool\"},{\"id\":\"1158\",\"type\":\"TapTool\"},{\"id\":\"1159\",\"type\":\"LassoSelectTool\"},{\"id\":\"1160\",\"type\":\"SaveTool\"},{\"id\":\"1161\",\"type\":\"ResetTool\"},{\"id\":\"1134\",\"type\":\"HoverTool\"},{\"id\":\"1219\",\"type\":\"PanTool\"},{\"id\":\"1220\",\"type\":\"BoxZoomTool\"},{\"id\":\"1221\",\"type\":\"TapTool\"},{\"id\":\"1222\",\"type\":\"LassoSelectTool\"},{\"id\":\"1223\",\"type\":\"SaveTool\"},{\"id\":\"1224\",\"type\":\"ResetTool\"},{\"id\":\"1197\",\"type\":\"HoverTool\"},{\"id\":\"1282\",\"type\":\"PanTool\"},{\"id\":\"1283\",\"type\":\"BoxZoomTool\"},{\"id\":\"1284\",\"type\":\"TapTool\"},{\"id\":\"1285\",\"type\":\"LassoSelectTool\"},{\"id\":\"1286\",\"type\":\"SaveTool\"},{\"id\":\"1287\",\"type\":\"ResetTool\"},{\"id\":\"1260\",\"type\":\"HoverTool\"},{\"id\":\"1345\",\"type\":\"PanTool\"},{\"id\":\"1346\",\"type\":\"BoxZoomTool\"},{\"id\":\"1347\",\"type\":\"TapTool\"},{\"id\":\"1348\",\"type\":\"LassoSelectTool\"},{\"id\":\"1349\",\"type\":\"SaveTool\"},{\"id\":\"1350\",\"type\":\"ResetTool\"},{\"id\":\"1323\",\"type\":\"HoverTool\"}]},\"id\":\"1447\",\"type\":\"ProxyToolbar\"},{\"attributes\":{\"fill_alpha\":{\"value\":0.85},\"fill_color\":{\"value\":\"#0072B2\"},\"line_alpha\":{\"value\":0.85},\"line_color\":{\"value\":\"#0072B2\"},\"size\":{\"units\":\"screen\",\"value\":7},\"x\":{\"field\":\"epoch\"},\"y\":{\"field\":\"loss_unlabeled\"}},\"id\":\"1297\",\"type\":\"Scatter\"},{\"attributes\":{},\"id\":\"1081\",\"type\":\"LinearScale\"},{\"attributes\":{\"formatter\":{\"id\":\"1366\",\"type\":\"BasicTickFormatter\"},\"ticker\":{\"id\":\"1336\",\"type\":\"BasicTicker\"}},\"id\":\"1335\",\"type\":\"LinearAxis\"},{\"attributes\":{\"formatter\":{\"id\":\"1114\",\"type\":\"BasicTickFormatter\"},\"ticker\":{\"id\":\"1084\",\"type\":\"BasicTicker\"}},\"id\":\"1083\",\"type\":\"LinearAxis\"},{\"attributes\":{\"callback\":null,\"data\":{\"AverageAccuracy\":{\"__ndarray__\":\"KRI5anIe7j9SSZ2AJsLoP0ku/yH99u8/t2J/2T156j/BFPidOf7vP6VOQBNhw+s/HqfoSC7/7z9NFYxK6gTsPyg0NmHo/u8/yJi7lpAP7j8UGpswdP/vP50Rpb3BF+4/Co1NGLr/7z+R7Xw/NV7uP49TdCSX/+8/MLsnDwu17j8AAAAAAADwP61p3nGKju4/Co1NGLr/7z9ZhjjWxW3uPw==\",\"dtype\":\"float64\",\"shape\":[20]},\"FakeAccuracy\":{\"__ndarray__\":\"H4XrUbgeyT8AAAAAAAD4f+eMKO0NvsQ/AAAAAAAA+H+Ew/hWEVvPPwAAAAAAAPh/HTU5j53KzD8AAAAAAAD4f5LwqvQAA84/AAAAAAAA+H8AtqmnfPXUPwAAAAAAAPh/Rdjw9EpZ3D8AAAAAAAD4f4ofY+5aQtw/AAAAAAAA+H/6yMAU+J3dPwAAAAAAAPh/lvxiyS+W3j8AAAAAAAD4fw==\",\"dtype\":\"float64\",\"shape\":[20]},\"RunTime\":{\"__ndarray__\":\"AACAluuQa0AAAIBIYshjQAAAgI/Y0WlAAAAA98pnYEAAAID+0eNoQAAAgGlg12NAAACAq8EXakAAAAB5ZgJiQAAAwI6+LHJAAACAt127ZEAAAIClzsRoQAAAgCzZfWBAAACACIPWaEAAAABOmX9gQAAAgJvbxGhAAAAAsdx7YEAAAIClcs1oQAAAgJV/JGJAAACAzQW4akAAAID8xARhQA==\",\"dtype\":\"float64\",\"shape\":[20]},\"epoch\":[1,1,2,2,3,3,4,4,5,5,6,6,7,7,8,8,9,9,10,10],\"loss_D\":{\"__ndarray__\":\"ZBa04xYf3j8AAAAAAAAAAPa8CGBfoNM/AAAAAAAAAAAt/PMnn7fWPwAAAAAAAAAANz/rZ1Y81j8AAAAAAAAAAAFNhM1g79Q/AAAAAAAAAACBlUOL4Y3TPwAAAAAAAAAAzxx/r6zu0T8AAAAAAAAAAFK4HkUf7NA/AAAAAAAAAABtMVKCRTjQPwAAAAAAAAAARNXCv4vIzz8AAAAAAAAAAA==\",\"dtype\":\"float64\",\"shape\":[20]},\"loss_labeled\":{\"__ndarray__\":\"ak3zjuzVxD8AAAAAAAAAAFmrY4IHNns/AAAAAAAAAAB348rG8OlqPwAAAAAAAAAAeekmMQj+YT8AAAAAAAAAAIXGJgzd8Vk/AAAAAAAAAADsUbgehS9UPwAAAAAAAAAAV6LZYqRUTT8AAAAAAAAAADWl4uzDo0c/AAAAAAAAAACxK0DuNU8+PwAAAAAAAAAAdJDqToqhQD8AAAAAAAAAAA==\",\"dtype\":\"float64\",\"shape\":[20]},\"loss_unlabeled\":{\"__ndarray__\":\"7xMamyC00z8AAAAAAAAAAFy07UGHM9M/AAAAAAAAAADixGpGy4HWPwAAAAAAAAAAbjSAV1oY1j8AAAAAAAAAADsmePBu1dQ/AAAAAAAAAAAlmi0GsnnTPwAAAAAAAAAA/q9NXQLg0T8AAAAAAAAAAIToI2NN4NA/AAAAAAAAAADd/9q0sTDQPwAAAAAAAAAAoGSFNeq3zz8AAAAAAAAAAA==\",\"dtype\":\"float64\",\"shape\":[20]},\"phase\":[\"train\",\"test\",\"train\",\"test\",\"train\",\"test\",\"train\",\"test\",\"train\",\"test\",\"train\",\"test\",\"train\",\"test\",\"train\",\"test\",\"train\",\"test\",\"train\",\"test\"]},\"selected\":{\"id\":\"1067\",\"type\":\"Selection\"},\"selection_policy\":{\"id\":\"1066\",\"type\":\"UnionRenderers\"}},\"id\":\"1002\",\"type\":\"ColumnDataSource\"},{\"attributes\":{},\"id\":\"1282\",\"type\":\"PanTool\"},{\"attributes\":{},\"id\":\"1084\",\"type\":\"BasicTicker\"},{\"attributes\":{\"overlay\":{\"id\":\"1305\",\"type\":\"BoxAnnotation\"}},\"id\":\"1283\",\"type\":\"BoxZoomTool\"},{\"attributes\":{\"ticker\":{\"id\":\"1084\",\"type\":\"BasicTicker\"}},\"id\":\"1087\",\"type\":\"Grid\"},{\"attributes\":{\"callback\":null},\"id\":\"1284\",\"type\":\"TapTool\"},{\"attributes\":{\"formatter\":{\"id\":\"1112\",\"type\":\"BasicTickFormatter\"},\"ticker\":{\"id\":\"1089\",\"type\":\"BasicTicker\"}},\"id\":\"1088\",\"type\":\"LinearAxis\"},{\"attributes\":{\"callback\":null,\"overlay\":{\"id\":\"1306\",\"type\":\"PolyAnnotation\"}},\"id\":\"1285\",\"type\":\"LassoSelectTool\"},{\"attributes\":{},\"id\":\"1089\",\"type\":\"BasicTicker\"},{\"attributes\":{},\"id\":\"1286\",\"type\":\"SaveTool\"},{\"attributes\":{\"dimension\":1,\"ticker\":{\"id\":\"1089\",\"type\":\"BasicTicker\"}},\"id\":\"1092\",\"type\":\"Grid\"},{\"attributes\":{},\"id\":\"1287\",\"type\":\"ResetTool\"},{\"attributes\":{\"fill_alpha\":{\"value\":0.85},\"fill_color\":{\"value\":\"#0072B2\"},\"line_alpha\":{\"value\":0.85},\"line_color\":{\"value\":\"#0072B2\"},\"size\":{\"units\":\"screen\",\"value\":7},\"x\":{\"field\":\"epoch\"},\"y\":{\"field\":\"FakeAccuracy\"}},\"id\":\"1108\",\"type\":\"Scatter\"},{\"attributes\":{\"active_drag\":\"auto\",\"active_inspect\":\"auto\",\"active_multi\":null,\"active_scroll\":\"auto\",\"active_tap\":\"auto\",\"tools\":[{\"id\":\"1282\",\"type\":\"PanTool\"},{\"id\":\"1283\",\"type\":\"BoxZoomTool\"},{\"id\":\"1284\",\"type\":\"TapTool\"},{\"id\":\"1285\",\"type\":\"LassoSelectTool\"},{\"id\":\"1286\",\"type\":\"SaveTool\"},{\"id\":\"1287\",\"type\":\"ResetTool\"},{\"id\":\"1260\",\"type\":\"HoverTool\"}]},\"id\":\"1288\",\"type\":\"Toolbar\"},{\"attributes\":{},\"id\":\"1177\",\"type\":\"BasicTickFormatter\"},{\"attributes\":{\"fill_alpha\":{\"value\":0.1},\"fill_color\":{\"value\":\"#1f77b4\"},\"line_alpha\":{\"value\":0.1},\"line_color\":{\"value\":\"#1f77b4\"},\"size\":{\"units\":\"screen\",\"value\":7},\"x\":{\"field\":\"epoch\"},\"y\":{\"field\":\"loss_unlabeled\"}},\"id\":\"1298\",\"type\":\"Scatter\"},{\"attributes\":{\"callback\":null,\"tooltips\":[[\"epoch\",\"@{epoch}{0i}\"],[\"value\",\"@loss_D{0.0000f}\"]]},\"id\":\"1134\",\"type\":\"HoverTool\"},{\"attributes\":{},\"id\":\"1093\",\"type\":\"PanTool\"},{\"attributes\":{\"data_source\":{\"id\":\"1002\",\"type\":\"ColumnDataSource\"},\"glyph\":{\"id\":\"1297\",\"type\":\"Scatter\"},\"hover_glyph\":null,\"muted_glyph\":null,\"nonselection_glyph\":{\"id\":\"1298\",\"type\":\"Scatter\"},\"selection_glyph\":null,\"view\":{\"id\":\"1005\",\"type\":\"CDSView\"}},\"id\":\"1299\",\"type\":\"GlyphRenderer\"},{\"attributes\":{},\"id\":\"1301\",\"type\":\"BasicTickFormatter\"},{\"attributes\":{\"overlay\":{\"id\":\"1116\",\"type\":\"BoxAnnotation\"}},\"id\":\"1094\",\"type\":\"BoxZoomTool\"},{\"attributes\":{\"callback\":null,\"tooltips\":[[\"epoch\",\"@{epoch}{0i}\"],[\"value\",\"@AverageAccuracy{0.0000f}\"]]},\"id\":\"1008\",\"type\":\"HoverTool\"},{\"attributes\":{},\"id\":\"1303\",\"type\":\"BasicTickFormatter\"},{\"attributes\":{\"callback\":null},\"id\":\"1095\",\"type\":\"TapTool\"},{\"attributes\":{\"bottom_units\":\"screen\",\"fill_alpha\":{\"value\":0.5},\"fill_color\":{\"value\":\"lightgrey\"},\"left_units\":\"screen\",\"level\":\"overlay\",\"line_alpha\":{\"value\":1.0},\"line_color\":{\"value\":\"black\"},\"line_dash\":[4,4],\"line_width\":{\"value\":2},\"render_mode\":\"css\",\"right_units\":\"screen\",\"top_units\":\"screen\"},\"id\":\"1305\",\"type\":\"BoxAnnotation\"},{\"attributes\":{\"callback\":null,\"overlay\":{\"id\":\"1117\",\"type\":\"PolyAnnotation\"}},\"id\":\"1096\",\"type\":\"LassoSelectTool\"},{\"attributes\":{\"fill_alpha\":{\"value\":0.5},\"fill_color\":{\"value\":\"lightgrey\"},\"level\":\"overlay\",\"line_alpha\":{\"value\":1.0},\"line_color\":{\"value\":\"black\"},\"line_dash\":[4,4],\"line_width\":{\"value\":2},\"xs_units\":\"screen\",\"ys_units\":\"screen\"},\"id\":\"1306\",\"type\":\"PolyAnnotation\"},{\"attributes\":{},\"id\":\"1097\",\"type\":\"SaveTool\"},{\"attributes\":{\"items\":[{\"id\":\"1308\",\"type\":\"LegendItem\"},{\"id\":\"1322\",\"type\":\"LegendItem\"}],\"location\":\"bottom_left\",\"visible\":false},\"id\":\"1307\",\"type\":\"Legend\"},{\"attributes\":{},\"id\":\"1098\",\"type\":\"ResetTool\"},{\"attributes\":{\"label\":{\"value\":\"train\"},\"renderers\":[{\"id\":\"1299\",\"type\":\"GlyphRenderer\"}]},\"id\":\"1308\",\"type\":\"LegendItem\"},{\"attributes\":{\"active_drag\":\"auto\",\"active_inspect\":\"auto\",\"active_multi\":null,\"active_scroll\":\"auto\",\"active_tap\":\"auto\",\"tools\":[{\"id\":\"1093\",\"type\":\"PanTool\"},{\"id\":\"1094\",\"type\":\"BoxZoomTool\"},{\"id\":\"1095\",\"type\":\"TapTool\"},{\"id\":\"1096\",\"type\":\"LassoSelectTool\"},{\"id\":\"1097\",\"type\":\"SaveTool\"},{\"id\":\"1098\",\"type\":\"ResetTool\"},{\"id\":\"1071\",\"type\":\"HoverTool\"}]},\"id\":\"1099\",\"type\":\"Toolbar\"},{\"attributes\":{},\"id\":\"1333\",\"type\":\"LinearScale\"},{\"attributes\":{\"fill_alpha\":{\"value\":0.1},\"fill_color\":{\"value\":\"#1f77b4\"},\"line_alpha\":{\"value\":0.1},\"line_color\":{\"value\":\"#1f77b4\"},\"size\":{\"units\":\"screen\",\"value\":7},\"x\":{\"field\":\"epoch\"},\"y\":{\"field\":\"FakeAccuracy\"}},\"id\":\"1109\",\"type\":\"Scatter\"},{\"attributes\":{\"fill_alpha\":{\"value\":0.85},\"fill_color\":{\"value\":\"#E69F00\"},\"line_alpha\":{\"value\":0.85},\"line_color\":{\"value\":\"#E69F00\"},\"marker\":{\"value\":\"triangle\"},\"size\":{\"units\":\"screen\",\"value\":7},\"x\":{\"field\":\"epoch\"},\"y\":{\"field\":\"loss_unlabeled\"}},\"id\":\"1310\",\"type\":\"Scatter\"},{\"attributes\":{\"data_source\":{\"id\":\"1002\",\"type\":\"ColumnDataSource\"},\"glyph\":{\"id\":\"1108\",\"type\":\"Scatter\"},\"hover_glyph\":null,\"muted_glyph\":null,\"nonselection_glyph\":{\"id\":\"1109\",\"type\":\"Scatter\"},\"selection_glyph\":null,\"view\":{\"id\":\"1005\",\"type\":\"CDSView\"}},\"id\":\"1110\",\"type\":\"GlyphRenderer\"},{\"attributes\":{},\"id\":\"1112\",\"type\":\"BasicTickFormatter\"},{\"attributes\":{\"fill_alpha\":{\"value\":0.1},\"fill_color\":{\"value\":\"#1f77b4\"},\"line_alpha\":{\"value\":0.1},\"line_color\":{\"value\":\"#1f77b4\"},\"marker\":{\"value\":\"triangle\"},\"size\":{\"units\":\"screen\",\"value\":7},\"x\":{\"field\":\"epoch\"},\"y\":{\"field\":\"loss_unlabeled\"}},\"id\":\"1311\",\"type\":\"Scatter\"},{\"attributes\":{\"data_source\":{\"id\":\"1002\",\"type\":\"ColumnDataSource\"},\"glyph\":{\"id\":\"1310\",\"type\":\"Scatter\"},\"hover_glyph\":null,\"muted_glyph\":null,\"nonselection_glyph\":{\"id\":\"1311\",\"type\":\"Scatter\"},\"selection_glyph\":null,\"view\":{\"id\":\"1007\",\"type\":\"CDSView\"}},\"id\":\"1312\",\"type\":\"GlyphRenderer\"},{\"attributes\":{},\"id\":\"1114\",\"type\":\"BasicTickFormatter\"},{\"attributes\":{\"bottom_units\":\"screen\",\"fill_alpha\":{\"value\":0.5},\"fill_color\":{\"value\":\"lightgrey\"},\"left_units\":\"screen\",\"level\":\"overlay\",\"line_alpha\":{\"value\":1.0},\"line_color\":{\"value\":\"black\"},\"line_dash\":[4,4],\"line_width\":{\"value\":2},\"render_mode\":\"css\",\"right_units\":\"screen\",\"top_units\":\"screen\"},\"id\":\"1116\",\"type\":\"BoxAnnotation\"},{\"attributes\":{\"label\":{\"value\":\"test\"},\"renderers\":[{\"id\":\"1312\",\"type\":\"GlyphRenderer\"}]},\"id\":\"1322\",\"type\":\"LegendItem\"},{\"attributes\":{\"fill_alpha\":{\"value\":0.5},\"fill_color\":{\"value\":\"lightgrey\"},\"level\":\"overlay\",\"line_alpha\":{\"value\":1.0},\"line_color\":{\"value\":\"black\"},\"line_dash\":[4,4],\"line_width\":{\"value\":2},\"xs_units\":\"screen\",\"ys_units\":\"screen\"},\"id\":\"1117\",\"type\":\"PolyAnnotation\"},{\"attributes\":{\"below\":[{\"id\":\"1335\",\"type\":\"LinearAxis\"}],\"center\":[{\"id\":\"1339\",\"type\":\"Grid\"},{\"id\":\"1344\",\"type\":\"Grid\"},{\"id\":\"1370\",\"type\":\"Legend\"}],\"left\":[{\"id\":\"1340\",\"type\":\"LinearAxis\"}],\"plot_height\":290,\"plot_width\":290,\"renderers\":[{\"id\":\"1362\",\"type\":\"GlyphRenderer\"},{\"id\":\"1375\",\"type\":\"GlyphRenderer\"}],\"title\":{\"id\":\"1325\",\"type\":\"Title\"},\"toolbar\":{\"id\":\"1351\",\"type\":\"Toolbar\"},\"toolbar_location\":null,\"x_range\":{\"id\":\"1327\",\"type\":\"DataRange1d\"},\"x_scale\":{\"id\":\"1331\",\"type\":\"LinearScale\"},\"y_range\":{\"id\":\"1329\",\"type\":\"DataRange1d\"},\"y_scale\":{\"id\":\"1333\",\"type\":\"LinearScale\"}},\"id\":\"1324\",\"subtype\":\"Figure\",\"type\":\"Plot\"},{\"attributes\":{\"items\":[{\"id\":\"1119\",\"type\":\"LegendItem\"},{\"id\":\"1133\",\"type\":\"LegendItem\"}],\"location\":\"bottom_left\",\"visible\":false},\"id\":\"1118\",\"type\":\"Legend\"},{\"attributes\":{\"text\":\"RunTime\"},\"id\":\"1325\",\"type\":\"Title\"},{\"attributes\":{\"label\":{\"value\":\"train\"},\"renderers\":[{\"id\":\"1110\",\"type\":\"GlyphRenderer\"}]},\"id\":\"1119\",\"type\":\"LegendItem\"},{\"attributes\":{\"callback\":null},\"id\":\"1327\",\"type\":\"DataRange1d\"},{\"attributes\":{},\"id\":\"1175\",\"type\":\"BasicTickFormatter\"},{\"attributes\":{\"callback\":null},\"id\":\"1329\",\"type\":\"DataRange1d\"},{\"attributes\":{\"fill_alpha\":{\"value\":0.85},\"fill_color\":{\"value\":\"#E69F00\"},\"line_alpha\":{\"value\":0.85},\"line_color\":{\"value\":\"#E69F00\"},\"marker\":{\"value\":\"triangle\"},\"size\":{\"units\":\"screen\",\"value\":7},\"x\":{\"field\":\"epoch\"},\"y\":{\"field\":\"FakeAccuracy\"}},\"id\":\"1121\",\"type\":\"Scatter\"},{\"attributes\":{\"below\":[{\"id\":\"1209\",\"type\":\"LinearAxis\"}],\"center\":[{\"id\":\"1213\",\"type\":\"Grid\"},{\"id\":\"1218\",\"type\":\"Grid\"},{\"id\":\"1244\",\"type\":\"Legend\"}],\"left\":[{\"id\":\"1214\",\"type\":\"LinearAxis\"}],\"plot_height\":290,\"plot_width\":290,\"renderers\":[{\"id\":\"1236\",\"type\":\"GlyphRenderer\"},{\"id\":\"1249\",\"type\":\"GlyphRenderer\"}],\"title\":{\"id\":\"1199\",\"type\":\"Title\"},\"toolbar\":{\"id\":\"1225\",\"type\":\"Toolbar\"},\"toolbar_location\":null,\"x_range\":{\"id\":\"1201\",\"type\":\"DataRange1d\"},\"x_scale\":{\"id\":\"1205\",\"type\":\"LinearScale\"},\"y_range\":{\"id\":\"1203\",\"type\":\"DataRange1d\"},\"y_scale\":{\"id\":\"1207\",\"type\":\"LinearScale\"}},\"id\":\"1198\",\"subtype\":\"Figure\",\"type\":\"Plot\"},{\"attributes\":{},\"id\":\"1331\",\"type\":\"LinearScale\"},{\"attributes\":{\"fill_alpha\":{\"value\":0.1},\"fill_color\":{\"value\":\"#1f77b4\"},\"line_alpha\":{\"value\":0.1},\"line_color\":{\"value\":\"#1f77b4\"},\"marker\":{\"value\":\"triangle\"},\"size\":{\"units\":\"screen\",\"value\":7},\"x\":{\"field\":\"epoch\"},\"y\":{\"field\":\"FakeAccuracy\"}},\"id\":\"1122\",\"type\":\"Scatter\"},{\"attributes\":{\"data_source\":{\"id\":\"1002\",\"type\":\"ColumnDataSource\"},\"glyph\":{\"id\":\"1121\",\"type\":\"Scatter\"},\"hover_glyph\":null,\"muted_glyph\":null,\"nonselection_glyph\":{\"id\":\"1122\",\"type\":\"Scatter\"},\"selection_glyph\":null,\"view\":{\"id\":\"1007\",\"type\":\"CDSView\"}},\"id\":\"1123\",\"type\":\"GlyphRenderer\"},{\"attributes\":{\"text\":\"loss_labeled\"},\"id\":\"1199\",\"type\":\"Title\"},{\"attributes\":{\"ticker\":{\"id\":\"1336\",\"type\":\"BasicTicker\"}},\"id\":\"1339\",\"type\":\"Grid\"},{\"attributes\":{\"filters\":[{\"id\":\"1004\",\"type\":\"GroupFilter\"}],\"source\":{\"id\":\"1002\",\"type\":\"ColumnDataSource\"}},\"id\":\"1005\",\"type\":\"CDSView\"},{\"attributes\":{\"callback\":null},\"id\":\"1201\",\"type\":\"DataRange1d\"},{\"attributes\":{\"formatter\":{\"id\":\"1364\",\"type\":\"BasicTickFormatter\"},\"ticker\":{\"id\":\"1341\",\"type\":\"BasicTicker\"}},\"id\":\"1340\",\"type\":\"LinearAxis\"},{\"attributes\":{\"filters\":[{\"id\":\"1006\",\"type\":\"GroupFilter\"}],\"source\":{\"id\":\"1002\",\"type\":\"ColumnDataSource\"}},\"id\":\"1007\",\"type\":\"CDSView\"},{\"attributes\":{\"items\":[{\"id\":\"1056\",\"type\":\"LegendItem\"},{\"id\":\"1070\",\"type\":\"LegendItem\"}],\"location\":\"bottom_left\",\"visible\":false},\"id\":\"1055\",\"type\":\"Legend\"},{\"attributes\":{\"label\":{\"value\":\"test\"},\"renderers\":[{\"id\":\"1123\",\"type\":\"GlyphRenderer\"}]},\"id\":\"1133\",\"type\":\"LegendItem\"},{\"attributes\":{\"column_name\":\"phase\",\"group\":\"train\"},\"id\":\"1004\",\"type\":\"GroupFilter\"},{\"attributes\":{\"callback\":null},\"id\":\"1203\",\"type\":\"DataRange1d\"},{\"attributes\":{},\"id\":\"1341\",\"type\":\"BasicTicker\"},{\"attributes\":{\"children\":[[{\"id\":\"1009\",\"subtype\":\"Figure\",\"type\":\"Plot\"},0,0],[{\"id\":\"1072\",\"subtype\":\"Figure\",\"type\":\"Plot\"},0,1],[{\"id\":\"1135\",\"subtype\":\"Figure\",\"type\":\"Plot\"},0,2],[{\"id\":\"1198\",\"subtype\":\"Figure\",\"type\":\"Plot\"},1,0],[{\"id\":\"1261\",\"subtype\":\"Figure\",\"type\":\"Plot\"},1,1],[{\"id\":\"1324\",\"subtype\":\"Figure\",\"type\":\"Plot\"},1,2]]},\"id\":\"1446\",\"type\":\"GridBox\"},{\"attributes\":{\"below\":[{\"id\":\"1146\",\"type\":\"LinearAxis\"}],\"center\":[{\"id\":\"1150\",\"type\":\"Grid\"},{\"id\":\"1155\",\"type\":\"Grid\"},{\"id\":\"1181\",\"type\":\"Legend\"}],\"left\":[{\"id\":\"1151\",\"type\":\"LinearAxis\"}],\"plot_height\":290,\"plot_width\":290,\"renderers\":[{\"id\":\"1173\",\"type\":\"GlyphRenderer\"},{\"id\":\"1186\",\"type\":\"GlyphRenderer\"}],\"title\":{\"id\":\"1136\",\"type\":\"Title\"},\"toolbar\":{\"id\":\"1162\",\"type\":\"Toolbar\"},\"toolbar_location\":null,\"x_range\":{\"id\":\"1138\",\"type\":\"DataRange1d\"},\"x_scale\":{\"id\":\"1142\",\"type\":\"LinearScale\"},\"y_range\":{\"id\":\"1140\",\"type\":\"DataRange1d\"},\"y_scale\":{\"id\":\"1144\",\"type\":\"LinearScale\"}},\"id\":\"1135\",\"subtype\":\"Figure\",\"type\":\"Plot\"},{\"attributes\":{},\"id\":\"1205\",\"type\":\"LinearScale\"},{\"attributes\":{\"dimension\":1,\"ticker\":{\"id\":\"1341\",\"type\":\"BasicTicker\"}},\"id\":\"1344\",\"type\":\"Grid\"},{\"attributes\":{\"formatter\":{\"id\":\"1049\",\"type\":\"BasicTickFormatter\"},\"ticker\":{\"id\":\"1026\",\"type\":\"BasicTicker\"}},\"id\":\"1025\",\"type\":\"LinearAxis\"},{\"attributes\":{\"text\":\"loss_D\"},\"id\":\"1136\",\"type\":\"Title\"},{\"attributes\":{},\"id\":\"1207\",\"type\":\"LinearScale\"},{\"attributes\":{\"fill_alpha\":{\"value\":0.85},\"fill_color\":{\"value\":\"#0072B2\"},\"line_alpha\":{\"value\":0.85},\"line_color\":{\"value\":\"#0072B2\"},\"size\":{\"units\":\"screen\",\"value\":7},\"x\":{\"field\":\"epoch\"},\"y\":{\"field\":\"RunTime\"}},\"id\":\"1360\",\"type\":\"Scatter\"},{\"attributes\":{\"column_name\":\"phase\",\"group\":\"test\"},\"id\":\"1006\",\"type\":\"GroupFilter\"},{\"attributes\":{\"callback\":null},\"id\":\"1138\",\"type\":\"DataRange1d\"},{\"attributes\":{\"formatter\":{\"id\":\"1240\",\"type\":\"BasicTickFormatter\"},\"ticker\":{\"id\":\"1210\",\"type\":\"BasicTicker\"}},\"id\":\"1209\",\"type\":\"LinearAxis\"},{\"attributes\":{},\"id\":\"1066\",\"type\":\"UnionRenderers\"},{\"attributes\":{\"callback\":null},\"id\":\"1140\",\"type\":\"DataRange1d\"},{\"attributes\":{},\"id\":\"1210\",\"type\":\"BasicTicker\"},{\"attributes\":{},\"id\":\"1345\",\"type\":\"PanTool\"},{\"attributes\":{\"callback\":null},\"id\":\"1012\",\"type\":\"DataRange1d\"},{\"attributes\":{},\"id\":\"1142\",\"type\":\"LinearScale\"},{\"attributes\":{\"ticker\":{\"id\":\"1210\",\"type\":\"BasicTicker\"}},\"id\":\"1213\",\"type\":\"Grid\"},{\"attributes\":{\"fill_alpha\":{\"value\":0.1},\"fill_color\":{\"value\":\"#1f77b4\"},\"line_alpha\":{\"value\":0.1},\"line_color\":{\"value\":\"#1f77b4\"},\"size\":{\"units\":\"screen\",\"value\":7},\"x\":{\"field\":\"epoch\"},\"y\":{\"field\":\"AverageAccuracy\"}},\"id\":\"1046\",\"type\":\"Scatter\"},{\"attributes\":{\"overlay\":{\"id\":\"1368\",\"type\":\"BoxAnnotation\"}},\"id\":\"1346\",\"type\":\"BoxZoomTool\"},{\"attributes\":{\"active_drag\":\"auto\",\"active_inspect\":\"auto\",\"active_multi\":null,\"active_scroll\":\"auto\",\"active_tap\":\"auto\",\"tools\":[{\"id\":\"1030\",\"type\":\"PanTool\"},{\"id\":\"1031\",\"type\":\"BoxZoomTool\"},{\"id\":\"1032\",\"type\":\"TapTool\"},{\"id\":\"1033\",\"type\":\"LassoSelectTool\"},{\"id\":\"1034\",\"type\":\"SaveTool\"},{\"id\":\"1035\",\"type\":\"ResetTool\"},{\"id\":\"1008\",\"type\":\"HoverTool\"}]},\"id\":\"1036\",\"type\":\"Toolbar\"},{\"attributes\":{},\"id\":\"1144\",\"type\":\"LinearScale\"},{\"attributes\":{\"formatter\":{\"id\":\"1238\",\"type\":\"BasicTickFormatter\"},\"ticker\":{\"id\":\"1215\",\"type\":\"BasicTicker\"}},\"id\":\"1214\",\"type\":\"LinearAxis\"},{\"attributes\":{},\"id\":\"1035\",\"type\":\"ResetTool\"},{\"attributes\":{\"callback\":null},\"id\":\"1347\",\"type\":\"TapTool\"},{\"attributes\":{\"formatter\":{\"id\":\"1177\",\"type\":\"BasicTickFormatter\"},\"ticker\":{\"id\":\"1147\",\"type\":\"BasicTicker\"}},\"id\":\"1146\",\"type\":\"LinearAxis\"},{\"attributes\":{},\"id\":\"1215\",\"type\":\"BasicTicker\"},{\"attributes\":{},\"id\":\"1034\",\"type\":\"SaveTool\"},{\"attributes\":{\"callback\":null,\"overlay\":{\"id\":\"1369\",\"type\":\"PolyAnnotation\"}},\"id\":\"1348\",\"type\":\"LassoSelectTool\"},{\"attributes\":{\"dimension\":1,\"ticker\":{\"id\":\"1215\",\"type\":\"BasicTicker\"}},\"id\":\"1218\",\"type\":\"Grid\"},{\"attributes\":{},\"id\":\"1147\",\"type\":\"BasicTicker\"},{\"attributes\":{\"callback\":null,\"overlay\":{\"id\":\"1054\",\"type\":\"PolyAnnotation\"}},\"id\":\"1033\",\"type\":\"LassoSelectTool\"},{\"attributes\":{},\"id\":\"1349\",\"type\":\"SaveTool\"},{\"attributes\":{\"ticker\":{\"id\":\"1147\",\"type\":\"BasicTicker\"}},\"id\":\"1150\",\"type\":\"Grid\"},{\"attributes\":{\"fill_alpha\":{\"value\":0.85},\"fill_color\":{\"value\":\"#0072B2\"},\"line_alpha\":{\"value\":0.85},\"line_color\":{\"value\":\"#0072B2\"},\"size\":{\"units\":\"screen\",\"value\":7},\"x\":{\"field\":\"epoch\"},\"y\":{\"field\":\"loss_labeled\"}},\"id\":\"1234\",\"type\":\"Scatter\"},{\"attributes\":{\"callback\":null},\"id\":\"1032\",\"type\":\"TapTool\"},{\"attributes\":{},\"id\":\"1350\",\"type\":\"ResetTool\"},{\"attributes\":{\"fill_alpha\":{\"value\":0.1},\"fill_color\":{\"value\":\"#1f77b4\"},\"line_alpha\":{\"value\":0.1},\"line_color\":{\"value\":\"#1f77b4\"},\"marker\":{\"value\":\"triangle\"},\"size\":{\"units\":\"screen\",\"value\":7},\"x\":{\"field\":\"epoch\"},\"y\":{\"field\":\"loss_labeled\"}},\"id\":\"1248\",\"type\":\"Scatter\"},{\"attributes\":{\"formatter\":{\"id\":\"1175\",\"type\":\"BasicTickFormatter\"},\"ticker\":{\"id\":\"1152\",\"type\":\"BasicTicker\"}},\"id\":\"1151\",\"type\":\"LinearAxis\"},{\"attributes\":{\"overlay\":{\"id\":\"1053\",\"type\":\"BoxAnnotation\"}},\"id\":\"1031\",\"type\":\"BoxZoomTool\"},{\"attributes\":{\"callback\":null,\"tooltips\":[[\"epoch\",\"@{epoch}{0i}\"],[\"value\",\"@loss_unlabeled{0.0000f}\"]]},\"id\":\"1260\",\"type\":\"HoverTool\"},{\"attributes\":{\"active_drag\":\"auto\",\"active_inspect\":\"auto\",\"active_multi\":null,\"active_scroll\":\"auto\",\"active_tap\":\"auto\",\"tools\":[{\"id\":\"1345\",\"type\":\"PanTool\"},{\"id\":\"1346\",\"type\":\"BoxZoomTool\"},{\"id\":\"1347\",\"type\":\"TapTool\"},{\"id\":\"1348\",\"type\":\"LassoSelectTool\"},{\"id\":\"1349\",\"type\":\"SaveTool\"},{\"id\":\"1350\",\"type\":\"ResetTool\"},{\"id\":\"1323\",\"type\":\"HoverTool\"}]},\"id\":\"1351\",\"type\":\"Toolbar\"},{\"attributes\":{},\"id\":\"1152\",\"type\":\"BasicTicker\"},{\"attributes\":{\"fill_alpha\":{\"value\":0.1},\"fill_color\":{\"value\":\"#1f77b4\"},\"line_alpha\":{\"value\":0.1},\"line_color\":{\"value\":\"#1f77b4\"},\"size\":{\"units\":\"screen\",\"value\":7},\"x\":{\"field\":\"epoch\"},\"y\":{\"field\":\"RunTime\"}},\"id\":\"1361\",\"type\":\"Scatter\"},{\"attributes\":{},\"id\":\"1030\",\"type\":\"PanTool\"},{\"attributes\":{},\"id\":\"1219\",\"type\":\"PanTool\"},{\"attributes\":{\"callback\":null,\"tooltips\":[[\"epoch\",\"@{epoch}{0i}\"],[\"value\",\"@FakeAccuracy{0.0000f}\"]]},\"id\":\"1071\",\"type\":\"HoverTool\"},{\"attributes\":{\"dimension\":1,\"ticker\":{\"id\":\"1152\",\"type\":\"BasicTicker\"}},\"id\":\"1155\",\"type\":\"Grid\"},{\"attributes\":{\"overlay\":{\"id\":\"1242\",\"type\":\"BoxAnnotation\"}},\"id\":\"1220\",\"type\":\"BoxZoomTool\"},{\"attributes\":{\"data_source\":{\"id\":\"1002\",\"type\":\"ColumnDataSource\"},\"glyph\":{\"id\":\"1360\",\"type\":\"Scatter\"},\"hover_glyph\":null,\"muted_glyph\":null,\"nonselection_glyph\":{\"id\":\"1361\",\"type\":\"Scatter\"},\"selection_glyph\":null,\"view\":{\"id\":\"1005\",\"type\":\"CDSView\"}},\"id\":\"1362\",\"type\":\"GlyphRenderer\"},{\"attributes\":{\"fill_alpha\":{\"value\":0.85},\"fill_color\":{\"value\":\"#0072B2\"},\"line_alpha\":{\"value\":0.85},\"line_color\":{\"value\":\"#0072B2\"},\"size\":{\"units\":\"screen\",\"value\":7},\"x\":{\"field\":\"epoch\"},\"y\":{\"field\":\"AverageAccuracy\"}},\"id\":\"1045\",\"type\":\"Scatter\"},{\"attributes\":{\"fill_alpha\":{\"value\":0.85},\"fill_color\":{\"value\":\"#0072B2\"},\"line_alpha\":{\"value\":0.85},\"line_color\":{\"value\":\"#0072B2\"},\"size\":{\"units\":\"screen\",\"value\":7},\"x\":{\"field\":\"epoch\"},\"y\":{\"field\":\"loss_D\"}},\"id\":\"1171\",\"type\":\"Scatter\"},{\"attributes\":{},\"id\":\"1364\",\"type\":\"BasicTickFormatter\"},{\"attributes\":{\"callback\":null},\"id\":\"1221\",\"type\":\"TapTool\"},{\"attributes\":{\"below\":[{\"id\":\"1083\",\"type\":\"LinearAxis\"}],\"center\":[{\"id\":\"1087\",\"type\":\"Grid\"},{\"id\":\"1092\",\"type\":\"Grid\"},{\"id\":\"1118\",\"type\":\"Legend\"}],\"left\":[{\"id\":\"1088\",\"type\":\"LinearAxis\"}],\"plot_height\":290,\"plot_width\":290,\"renderers\":[{\"id\":\"1110\",\"type\":\"GlyphRenderer\"},{\"id\":\"1123\",\"type\":\"GlyphRenderer\"}],\"title\":{\"id\":\"1073\",\"type\":\"Title\"},\"toolbar\":{\"id\":\"1099\",\"type\":\"Toolbar\"},\"toolbar_location\":null,\"x_range\":{\"id\":\"1075\",\"type\":\"DataRange1d\"},\"x_scale\":{\"id\":\"1079\",\"type\":\"LinearScale\"},\"y_range\":{\"id\":\"1077\",\"type\":\"DataRange1d\"},\"y_scale\":{\"id\":\"1081\",\"type\":\"LinearScale\"}},\"id\":\"1072\",\"subtype\":\"Figure\",\"type\":\"Plot\"},{\"attributes\":{\"fill_alpha\":{\"value\":0.5},\"fill_color\":{\"value\":\"lightgrey\"},\"level\":\"overlay\",\"line_alpha\":{\"value\":1.0},\"line_color\":{\"value\":\"black\"},\"line_dash\":[4,4],\"line_width\":{\"value\":2},\"xs_units\":\"screen\",\"ys_units\":\"screen\"},\"id\":\"1180\",\"type\":\"PolyAnnotation\"},{\"attributes\":{},\"id\":\"1366\",\"type\":\"BasicTickFormatter\"},{\"attributes\":{\"callback\":null,\"overlay\":{\"id\":\"1243\",\"type\":\"PolyAnnotation\"}},\"id\":\"1222\",\"type\":\"LassoSelectTool\"},{\"attributes\":{\"callback\":null,\"tooltips\":[[\"epoch\",\"@{epoch}{0i}\"],[\"value\",\"@loss_labeled{0.0000f}\"]]},\"id\":\"1197\",\"type\":\"HoverTool\"},{\"attributes\":{\"dimension\":1,\"ticker\":{\"id\":\"1026\",\"type\":\"BasicTicker\"}},\"id\":\"1029\",\"type\":\"Grid\"},{\"attributes\":{\"bottom_units\":\"screen\",\"fill_alpha\":{\"value\":0.5},\"fill_color\":{\"value\":\"lightgrey\"},\"left_units\":\"screen\",\"level\":\"overlay\",\"line_alpha\":{\"value\":1.0},\"line_color\":{\"value\":\"black\"},\"line_dash\":[4,4],\"line_width\":{\"value\":2},\"render_mode\":\"css\",\"right_units\":\"screen\",\"top_units\":\"screen\"},\"id\":\"1368\",\"type\":\"BoxAnnotation\"},{\"attributes\":{},\"id\":\"1156\",\"type\":\"PanTool\"},{\"attributes\":{},\"id\":\"1223\",\"type\":\"SaveTool\"},{\"attributes\":{\"fill_alpha\":{\"value\":0.5},\"fill_color\":{\"value\":\"lightgrey\"},\"level\":\"overlay\",\"line_alpha\":{\"value\":1.0},\"line_color\":{\"value\":\"black\"},\"line_dash\":[4,4],\"line_width\":{\"value\":2},\"xs_units\":\"screen\",\"ys_units\":\"screen\"},\"id\":\"1369\",\"type\":\"PolyAnnotation\"},{\"attributes\":{},\"id\":\"1026\",\"type\":\"BasicTicker\"},{\"attributes\":{\"overlay\":{\"id\":\"1179\",\"type\":\"BoxAnnotation\"}},\"id\":\"1157\",\"type\":\"BoxZoomTool\"},{\"attributes\":{},\"id\":\"1224\",\"type\":\"ResetTool\"},{\"attributes\":{\"items\":[{\"id\":\"1371\",\"type\":\"LegendItem\"},{\"id\":\"1385\",\"type\":\"LegendItem\"}],\"location\":\"bottom_left\",\"visible\":true},\"id\":\"1370\",\"type\":\"Legend\"},{\"attributes\":{\"callback\":null},\"id\":\"1158\",\"type\":\"TapTool\"},{\"attributes\":{\"ticker\":{\"id\":\"1021\",\"type\":\"BasicTicker\"}},\"id\":\"1024\",\"type\":\"Grid\"},{\"attributes\":{\"active_drag\":\"auto\",\"active_inspect\":\"auto\",\"active_multi\":null,\"active_scroll\":\"auto\",\"active_tap\":\"auto\",\"tools\":[{\"id\":\"1219\",\"type\":\"PanTool\"},{\"id\":\"1220\",\"type\":\"BoxZoomTool\"},{\"id\":\"1221\",\"type\":\"TapTool\"},{\"id\":\"1222\",\"type\":\"LassoSelectTool\"},{\"id\":\"1223\",\"type\":\"SaveTool\"},{\"id\":\"1224\",\"type\":\"ResetTool\"},{\"id\":\"1197\",\"type\":\"HoverTool\"}]},\"id\":\"1225\",\"type\":\"Toolbar\"},{\"attributes\":{\"fill_alpha\":{\"value\":0.1},\"fill_color\":{\"value\":\"#1f77b4\"},\"line_alpha\":{\"value\":0.1},\"line_color\":{\"value\":\"#1f77b4\"},\"size\":{\"units\":\"screen\",\"value\":7},\"x\":{\"field\":\"epoch\"},\"y\":{\"field\":\"loss_labeled\"}},\"id\":\"1235\",\"type\":\"Scatter\"},{\"attributes\":{\"label\":{\"value\":\"train\"},\"renderers\":[{\"id\":\"1362\",\"type\":\"GlyphRenderer\"}]},\"id\":\"1371\",\"type\":\"LegendItem\"},{\"attributes\":{\"callback\":null,\"overlay\":{\"id\":\"1180\",\"type\":\"PolyAnnotation\"}},\"id\":\"1159\",\"type\":\"LassoSelectTool\"},{\"attributes\":{},\"id\":\"1021\",\"type\":\"BasicTicker\"},{\"attributes\":{},\"id\":\"1160\",\"type\":\"SaveTool\"},{\"attributes\":{\"formatter\":{\"id\":\"1051\",\"type\":\"BasicTickFormatter\"},\"ticker\":{\"id\":\"1021\",\"type\":\"BasicTicker\"}},\"id\":\"1020\",\"type\":\"LinearAxis\"},{\"attributes\":{\"data_source\":{\"id\":\"1002\",\"type\":\"ColumnDataSource\"},\"glyph\":{\"id\":\"1234\",\"type\":\"Scatter\"},\"hover_glyph\":null,\"muted_glyph\":null,\"nonselection_glyph\":{\"id\":\"1235\",\"type\":\"Scatter\"},\"selection_glyph\":null,\"view\":{\"id\":\"1005\",\"type\":\"CDSView\"}},\"id\":\"1236\",\"type\":\"GlyphRenderer\"},{\"attributes\":{},\"id\":\"1238\",\"type\":\"BasicTickFormatter\"},{\"attributes\":{\"fill_alpha\":{\"value\":0.85},\"fill_color\":{\"value\":\"#E69F00\"},\"line_alpha\":{\"value\":0.85},\"line_color\":{\"value\":\"#E69F00\"},\"marker\":{\"value\":\"triangle\"},\"size\":{\"units\":\"screen\",\"value\":7},\"x\":{\"field\":\"epoch\"},\"y\":{\"field\":\"RunTime\"}},\"id\":\"1373\",\"type\":\"Scatter\"},{\"attributes\":{},\"id\":\"1161\",\"type\":\"ResetTool\"},{\"attributes\":{},\"id\":\"1018\",\"type\":\"LinearScale\"},{\"attributes\":{},\"id\":\"1240\",\"type\":\"BasicTickFormatter\"},{\"attributes\":{\"fill_alpha\":{\"value\":0.1},\"fill_color\":{\"value\":\"#1f77b4\"},\"line_alpha\":{\"value\":0.1},\"line_color\":{\"value\":\"#1f77b4\"},\"marker\":{\"value\":\"triangle\"},\"size\":{\"units\":\"screen\",\"value\":7},\"x\":{\"field\":\"epoch\"},\"y\":{\"field\":\"RunTime\"}},\"id\":\"1374\",\"type\":\"Scatter\"},{\"attributes\":{},\"id\":\"1016\",\"type\":\"LinearScale\"},{\"attributes\":{\"active_drag\":\"auto\",\"active_inspect\":\"auto\",\"active_multi\":null,\"active_scroll\":\"auto\",\"active_tap\":\"auto\",\"tools\":[{\"id\":\"1156\",\"type\":\"PanTool\"},{\"id\":\"1157\",\"type\":\"BoxZoomTool\"},{\"id\":\"1158\",\"type\":\"TapTool\"},{\"id\":\"1159\",\"type\":\"LassoSelectTool\"},{\"id\":\"1160\",\"type\":\"SaveTool\"},{\"id\":\"1161\",\"type\":\"ResetTool\"},{\"id\":\"1134\",\"type\":\"HoverTool\"}]},\"id\":\"1162\",\"type\":\"Toolbar\"},{\"attributes\":{\"data_source\":{\"id\":\"1002\",\"type\":\"ColumnDataSource\"},\"glyph\":{\"id\":\"1373\",\"type\":\"Scatter\"},\"hover_glyph\":null,\"muted_glyph\":null,\"nonselection_glyph\":{\"id\":\"1374\",\"type\":\"Scatter\"},\"selection_glyph\":null,\"view\":{\"id\":\"1007\",\"type\":\"CDSView\"}},\"id\":\"1375\",\"type\":\"GlyphRenderer\"},{\"attributes\":{\"bottom_units\":\"screen\",\"fill_alpha\":{\"value\":0.5},\"fill_color\":{\"value\":\"lightgrey\"},\"left_units\":\"screen\",\"level\":\"overlay\",\"line_alpha\":{\"value\":1.0},\"line_color\":{\"value\":\"black\"},\"line_dash\":[4,4],\"line_width\":{\"value\":2},\"render_mode\":\"css\",\"right_units\":\"screen\",\"top_units\":\"screen\"},\"id\":\"1242\",\"type\":\"BoxAnnotation\"},{\"attributes\":{\"fill_alpha\":{\"value\":0.1},\"fill_color\":{\"value\":\"#1f77b4\"},\"line_alpha\":{\"value\":0.1},\"line_color\":{\"value\":\"#1f77b4\"},\"size\":{\"units\":\"screen\",\"value\":7},\"x\":{\"field\":\"epoch\"},\"y\":{\"field\":\"loss_D\"}},\"id\":\"1172\",\"type\":\"Scatter\"},{\"attributes\":{\"callback\":null},\"id\":\"1014\",\"type\":\"DataRange1d\"},{\"attributes\":{\"fill_alpha\":{\"value\":0.5},\"fill_color\":{\"value\":\"lightgrey\"},\"level\":\"overlay\",\"line_alpha\":{\"value\":1.0},\"line_color\":{\"value\":\"black\"},\"line_dash\":[4,4],\"line_width\":{\"value\":2},\"xs_units\":\"screen\",\"ys_units\":\"screen\"},\"id\":\"1243\",\"type\":\"PolyAnnotation\"},{\"attributes\":{\"label\":{\"value\":\"test\"},\"renderers\":[{\"id\":\"1375\",\"type\":\"GlyphRenderer\"}]},\"id\":\"1385\",\"type\":\"LegendItem\"},{\"attributes\":{\"data_source\":{\"id\":\"1002\",\"type\":\"ColumnDataSource\"},\"glyph\":{\"id\":\"1171\",\"type\":\"Scatter\"},\"hover_glyph\":null,\"muted_glyph\":null,\"nonselection_glyph\":{\"id\":\"1172\",\"type\":\"Scatter\"},\"selection_glyph\":null,\"view\":{\"id\":\"1005\",\"type\":\"CDSView\"}},\"id\":\"1173\",\"type\":\"GlyphRenderer\"},{\"attributes\":{\"toolbar\":{\"id\":\"1447\",\"type\":\"ProxyToolbar\"},\"toolbar_location\":\"above\"},\"id\":\"1448\",\"type\":\"ToolbarBox\"},{\"attributes\":{\"items\":[{\"id\":\"1245\",\"type\":\"LegendItem\"},{\"id\":\"1259\",\"type\":\"LegendItem\"}],\"location\":\"bottom_left\",\"visible\":false},\"id\":\"1244\",\"type\":\"Legend\"},{\"attributes\":{\"bottom_units\":\"screen\",\"fill_alpha\":{\"value\":0.5},\"fill_color\":{\"value\":\"lightgrey\"},\"left_units\":\"screen\",\"level\":\"overlay\",\"line_alpha\":{\"value\":1.0},\"line_color\":{\"value\":\"black\"},\"line_dash\":[4,4],\"line_width\":{\"value\":2},\"render_mode\":\"css\",\"right_units\":\"screen\",\"top_units\":\"screen\"},\"id\":\"1179\",\"type\":\"BoxAnnotation\"},{\"attributes\":{\"text\":\"AverageAccuracy\"},\"id\":\"1010\",\"type\":\"Title\"},{\"attributes\":{\"items\":[{\"id\":\"1182\",\"type\":\"LegendItem\"},{\"id\":\"1196\",\"type\":\"LegendItem\"}],\"location\":\"bottom_left\",\"visible\":false},\"id\":\"1181\",\"type\":\"Legend\"},{\"attributes\":{\"label\":{\"value\":\"train\"},\"renderers\":[{\"id\":\"1236\",\"type\":\"GlyphRenderer\"}]},\"id\":\"1245\",\"type\":\"LegendItem\"},{\"attributes\":{\"below\":[{\"id\":\"1020\",\"type\":\"LinearAxis\"}],\"center\":[{\"id\":\"1024\",\"type\":\"Grid\"},{\"id\":\"1029\",\"type\":\"Grid\"},{\"id\":\"1055\",\"type\":\"Legend\"}],\"left\":[{\"id\":\"1025\",\"type\":\"LinearAxis\"}],\"plot_height\":290,\"plot_width\":290,\"renderers\":[{\"id\":\"1047\",\"type\":\"GlyphRenderer\"},{\"id\":\"1060\",\"type\":\"GlyphRenderer\"}],\"title\":{\"id\":\"1010\",\"type\":\"Title\"},\"toolbar\":{\"id\":\"1036\",\"type\":\"Toolbar\"},\"toolbar_location\":null,\"x_range\":{\"id\":\"1012\",\"type\":\"DataRange1d\"},\"x_scale\":{\"id\":\"1016\",\"type\":\"LinearScale\"},\"y_range\":{\"id\":\"1014\",\"type\":\"DataRange1d\"},\"y_scale\":{\"id\":\"1018\",\"type\":\"LinearScale\"}},\"id\":\"1009\",\"subtype\":\"Figure\",\"type\":\"Plot\"},{\"attributes\":{\"label\":{\"value\":\"train\"},\"renderers\":[{\"id\":\"1173\",\"type\":\"GlyphRenderer\"}]},\"id\":\"1182\",\"type\":\"LegendItem\"},{\"attributes\":{\"fill_alpha\":{\"value\":0.85},\"fill_color\":{\"value\":\"#E69F00\"},\"line_alpha\":{\"value\":0.85},\"line_color\":{\"value\":\"#E69F00\"},\"marker\":{\"value\":\"triangle\"},\"size\":{\"units\":\"screen\",\"value\":7},\"x\":{\"field\":\"epoch\"},\"y\":{\"field\":\"loss_labeled\"}},\"id\":\"1247\",\"type\":\"Scatter\"},{\"attributes\":{\"data_source\":{\"id\":\"1002\",\"type\":\"ColumnDataSource\"},\"glyph\":{\"id\":\"1045\",\"type\":\"Scatter\"},\"hover_glyph\":null,\"muted_glyph\":null,\"nonselection_glyph\":{\"id\":\"1046\",\"type\":\"Scatter\"},\"selection_glyph\":null,\"view\":{\"id\":\"1005\",\"type\":\"CDSView\"}},\"id\":\"1047\",\"type\":\"GlyphRenderer\"},{\"attributes\":{\"data_source\":{\"id\":\"1002\",\"type\":\"ColumnDataSource\"},\"glyph\":{\"id\":\"1247\",\"type\":\"Scatter\"},\"hover_glyph\":null,\"muted_glyph\":null,\"nonselection_glyph\":{\"id\":\"1248\",\"type\":\"Scatter\"},\"selection_glyph\":null,\"view\":{\"id\":\"1007\",\"type\":\"CDSView\"}},\"id\":\"1249\",\"type\":\"GlyphRenderer\"},{\"attributes\":{},\"id\":\"1049\",\"type\":\"BasicTickFormatter\"},{\"attributes\":{},\"id\":\"1336\",\"type\":\"BasicTicker\"},{\"attributes\":{},\"id\":\"1051\",\"type\":\"BasicTickFormatter\"},{\"attributes\":{\"fill_alpha\":{\"value\":0.85},\"fill_color\":{\"value\":\"#E69F00\"},\"line_alpha\":{\"value\":0.85},\"line_color\":{\"value\":\"#E69F00\"},\"marker\":{\"value\":\"triangle\"},\"size\":{\"units\":\"screen\",\"value\":7},\"x\":{\"field\":\"epoch\"},\"y\":{\"field\":\"loss_D\"}},\"id\":\"1184\",\"type\":\"Scatter\"},{\"attributes\":{\"label\":{\"value\":\"test\"},\"renderers\":[{\"id\":\"1249\",\"type\":\"GlyphRenderer\"}]},\"id\":\"1259\",\"type\":\"LegendItem\"},{\"attributes\":{\"bottom_units\":\"screen\",\"fill_alpha\":{\"value\":0.5},\"fill_color\":{\"value\":\"lightgrey\"},\"left_units\":\"screen\",\"level\":\"overlay\",\"line_alpha\":{\"value\":1.0},\"line_color\":{\"value\":\"black\"},\"line_dash\":[4,4],\"line_width\":{\"value\":2},\"render_mode\":\"css\",\"right_units\":\"screen\",\"top_units\":\"screen\"},\"id\":\"1053\",\"type\":\"BoxAnnotation\"},{\"attributes\":{\"fill_alpha\":{\"value\":0.1},\"fill_color\":{\"value\":\"#1f77b4\"},\"line_alpha\":{\"value\":0.1},\"line_color\":{\"value\":\"#1f77b4\"},\"marker\":{\"value\":\"triangle\"},\"size\":{\"units\":\"screen\",\"value\":7},\"x\":{\"field\":\"epoch\"},\"y\":{\"field\":\"loss_D\"}},\"id\":\"1185\",\"type\":\"Scatter\"},{\"attributes\":{\"below\":[{\"id\":\"1272\",\"type\":\"LinearAxis\"}],\"center\":[{\"id\":\"1276\",\"type\":\"Grid\"},{\"id\":\"1281\",\"type\":\"Grid\"},{\"id\":\"1307\",\"type\":\"Legend\"}],\"left\":[{\"id\":\"1277\",\"type\":\"LinearAxis\"}],\"plot_height\":290,\"plot_width\":290,\"renderers\":[{\"id\":\"1299\",\"type\":\"GlyphRenderer\"},{\"id\":\"1312\",\"type\":\"GlyphRenderer\"}],\"title\":{\"id\":\"1262\",\"type\":\"Title\"},\"toolbar\":{\"id\":\"1288\",\"type\":\"Toolbar\"},\"toolbar_location\":null,\"x_range\":{\"id\":\"1264\",\"type\":\"DataRange1d\"},\"x_scale\":{\"id\":\"1268\",\"type\":\"LinearScale\"},\"y_range\":{\"id\":\"1266\",\"type\":\"DataRange1d\"},\"y_scale\":{\"id\":\"1270\",\"type\":\"LinearScale\"}},\"id\":\"1261\",\"subtype\":\"Figure\",\"type\":\"Plot\"},{\"attributes\":{\"data_source\":{\"id\":\"1002\",\"type\":\"ColumnDataSource\"},\"glyph\":{\"id\":\"1184\",\"type\":\"Scatter\"},\"hover_glyph\":null,\"muted_glyph\":null,\"nonselection_glyph\":{\"id\":\"1185\",\"type\":\"Scatter\"},\"selection_glyph\":null,\"view\":{\"id\":\"1007\",\"type\":\"CDSView\"}},\"id\":\"1186\",\"type\":\"GlyphRenderer\"},{\"attributes\":{\"fill_alpha\":{\"value\":0.5},\"fill_color\":{\"value\":\"lightgrey\"},\"level\":\"overlay\",\"line_alpha\":{\"value\":1.0},\"line_color\":{\"value\":\"black\"},\"line_dash\":[4,4],\"line_width\":{\"value\":2},\"xs_units\":\"screen\",\"ys_units\":\"screen\"},\"id\":\"1054\",\"type\":\"PolyAnnotation\"},{\"attributes\":{\"callback\":null,\"tooltips\":[[\"epoch\",\"@{epoch}{0i}\"],[\"value\",\"@RunTime{0.0000f}\"]]},\"id\":\"1323\",\"type\":\"HoverTool\"},{\"attributes\":{\"text\":\"loss_unlabeled\"},\"id\":\"1262\",\"type\":\"Title\"},{\"attributes\":{\"label\":{\"value\":\"test\"},\"renderers\":[{\"id\":\"1186\",\"type\":\"GlyphRenderer\"}]},\"id\":\"1196\",\"type\":\"LegendItem\"},{\"attributes\":{\"label\":{\"value\":\"train\"},\"renderers\":[{\"id\":\"1047\",\"type\":\"GlyphRenderer\"}]},\"id\":\"1056\",\"type\":\"LegendItem\"},{\"attributes\":{\"callback\":null},\"id\":\"1264\",\"type\":\"DataRange1d\"}],\"root_ids\":[\"1449\"]},\"title\":\"Bokeh Application\",\"version\":\"1.4.0\"}};\n",
       "  var render_items = [{\"docid\":\"a7c5007e-5900-4d25-9deb-a2a0fd62d62a\",\"notebook_comms_target\":\"1494\",\"roots\":{\"1449\":\"9367f5ea-32d8-45bd-ae16-2cd083f592c8\"}}];\n",
       "  root.Bokeh.embed.embed_items_notebook(docs_json, render_items);\n",
       "\n",
       "  }\n",
       "  if (root.Bokeh !== undefined) {\n",
       "    embed_document(root);\n",
       "  } else {\n",
       "    var attempts = 0;\n",
       "    var timer = setInterval(function(root) {\n",
       "      if (root.Bokeh !== undefined) {\n",
       "        clearInterval(timer);\n",
       "        embed_document(root);\n",
       "      } else {\n",
       "        attempts++;\n",
       "        if (attempts > 100) {\n",
       "          clearInterval(timer);\n",
       "          console.log(\"Bokeh: ERROR: Unable to run BokehJS code because BokehJS library is missing\");\n",
       "        }\n",
       "      }\n",
       "    }, 10, root)\n",
       "  }\n",
       "})(window);"
      ],
      "application/vnd.bokehjs_exec.v0+json": ""
     },
     "metadata": {
      "application/vnd.bokehjs_exec.v0+json": {
       "id": "1449"
      }
     },
     "output_type": "display_data"
    }
   ],
   "source": [
    "output_notebook()\n",
    "grid_D = t.history['D'].viz()\n",
    "t.history['D'].viz_handle = show(gridplot(grid_D), notebook_handle=True)"
   ]
  },
  {
   "cell_type": "code",
   "execution_count": 9,
   "metadata": {
    "colab": {},
    "colab_type": "code",
    "id": "Gll1MIaYhQ2A",
    "scrolled": true
   },
   "outputs": [],
   "source": [
    "t.run(max_epoch=args.epochs)"
   ]
  },
  {
   "cell_type": "code",
   "execution_count": 10,
   "metadata": {
    "colab": {},
    "colab_type": "code",
    "id": "1wMJcPbjg96-",
    "scrolled": true
   },
   "outputs": [
    {
     "name": "stdout",
     "output_type": "stream",
     "text": [
      "discriminator history:\n",
      "    phase  epoch  AverageAccuracy  FakeAccuracy    loss_D  loss_labeled  \\\n",
      "0   train  1      0.941217         0.196250      0.470648  0.162778       \n",
      "1   test   1      0.773700        NaN            0.000000  0.000000       \n",
      "2   train  2      0.998900         0.162050      0.306663  0.006643       \n",
      "3   test   2      0.827300        NaN            0.000000  0.000000       \n",
      "4   train  3      0.999783         0.244967      0.354957  0.003285       \n",
      "5   test   3      0.867600        NaN            0.000000  0.000000       \n",
      "6   train  4      0.999900         0.224933      0.347433  0.002196       \n",
      "7   test   4      0.875600        NaN            0.000000  0.000000       \n",
      "8   train  5      0.999867         0.234467      0.327110  0.001584       \n",
      "9   test   5      0.939400        NaN            0.000000  0.000000       \n",
      "10  train  6      0.999933         0.327483      0.305535  0.001232       \n",
      "11  test   6      0.940400        NaN            0.000000  0.000000       \n",
      "12  train  7      0.999967         0.442950      0.280193  0.000895       \n",
      "13  test   7      0.949000        NaN            0.000000  0.000000       \n",
      "14  train  8      0.999950         0.441550      0.264412  0.000721       \n",
      "15  test   8      0.959600        NaN            0.000000  0.000000       \n",
      "16  train  9      1.000000         0.462767      0.253435  0.000462       \n",
      "17  test   9      0.954900        NaN            0.000000  0.000000       \n",
      "18  train  10     0.999967         0.477917      0.248308  0.000508       \n",
      "19  test   10     0.950900        NaN            0.000000  0.000000       \n",
      "\n",
      "    loss_unlabeled     RunTime  \\\n",
      "0   0.307869        220.528758   \n",
      "1   0.000000        158.261997   \n",
      "2   0.300020        206.557686   \n",
      "3   0.000000        131.243526   \n",
      "4   0.351672        199.119384   \n",
      "5   0.000000        158.730519   \n",
      "6   0.345236        208.742391   \n",
      "7   0.000000        144.075009   \n",
      "8   0.325527        290.796523   \n",
      "9   0.000000        165.855190   \n",
      "10  0.304303        198.150225   \n",
      "11  0.000000        131.932760   \n",
      "12  0.279297        198.703495   \n",
      "13  0.000000        131.987464   \n",
      "14  0.263690        198.151808   \n",
      "15  0.000000        131.870690   \n",
      "16  0.252972        198.420245   \n",
      "17  0.000000        145.140574   \n",
      "18  0.247800        213.750708   \n",
      "19  0.000000        136.149046   \n",
      "\n",
      "                                                                                                           ClassAccuracy  \n",
      "0   [0.932, 0.97136366, 0.93483335, 0.92266667, 0.96933335, 0.9088889, 0.9773333, 0.97333336, 0.89266664, 0.9235]         \n",
      "1   [0.972449, 0.9629956, 0.58914727, 0.76237625, 0.87169045, 0.6412556, 0.8121086, 0.5593385, 0.8470226, 0.7006937]      \n",
      "2   [0.99766666, 0.9990909, 0.9995, 0.99916667, 0.999, 0.9987037, 0.9993333, 0.99916667, 0.99916667, 0.9981667]           \n",
      "3   [0.89591837, 0.9709251, 0.8023256, 0.90990096, 0.9327902, 0.6446188, 0.9102296, 0.6332685, 0.77823406, 0.76709616]    \n",
      "4   [1.0, 0.9998485, 0.9996667, 1.0, 0.99983335, 0.9998148, 0.99983335, 1.0, 0.99983335, 0.999]                           \n",
      "5   [0.9734694, 0.9709251, 0.85368216, 0.85148513, 0.8411405, 0.64910316, 0.87160754, 0.8735409, 0.88911706, 0.86719525]  \n",
      "6   [0.99983335, 0.9998485, 1.0, 0.99983335, 1.0, 0.9998148, 0.99983335, 1.0, 0.99983335, 1.0]                            \n",
      "7   [0.9867347, 0.9682819, 0.94282943, 0.9306931, 0.88594705, 0.6883408, 0.84759915, 0.7110895, 0.84291583, 0.9207136]    \n",
      "8   [1.0, 0.9998485, 1.0, 1.0, 0.99983335, 0.9998148, 0.99983335, 1.0, 0.99983335, 0.9995]                                \n",
      "9   [0.9765306, 0.985022, 0.96608526, 0.84356433, 0.9674134, 0.9293722, 0.93632567, 0.9348249, 0.93839836, 0.9108028]     \n",
      "10  [1.0, 0.9998485, 0.99983335, 1.0, 1.0, 1.0, 0.99983335, 1.0, 0.99983335, 1.0]                                         \n",
      "11  [0.9887755, 0.9779736, 0.9612403, 0.96039605, 0.95112014, 0.83744395, 0.9112735, 0.92898834, 0.9373717, 0.9326065]    \n",
      "12  [1.0, 0.9998485, 1.0, 1.0, 1.0, 1.0, 1.0, 1.0, 1.0, 0.99983335]                                                       \n",
      "13  [0.9887755, 0.9832599, 0.98062015, 0.9475247, 0.9052953, 0.89349777, 0.9290188, 0.9348249, 0.9589322, 0.95639247]     \n",
      "14  [1.0, 0.9998485, 1.0, 1.0, 1.0, 1.0, 1.0, 0.9996667, 1.0, 1.0]                                                        \n",
      "15  [0.9765306, 0.9859031, 0.9767442, 0.9316832, 0.9582485, 0.9338565, 0.97077245, 0.942607, 0.95790553, 0.95639247]      \n",
      "16  [1.0, 1.0, 1.0, 1.0, 1.0, 1.0, 1.0, 1.0, 1.0, 1.0]                                                                    \n",
      "17  [0.98367345, 0.9814978, 0.97965115, 0.9643564, 0.9521385, 0.9002242, 0.9227557, 0.9581712, 0.9507187, 0.9444995]      \n",
      "18  [0.99983335, 1.0, 1.0, 0.99983335, 1.0, 1.0, 1.0, 1.0, 1.0, 1.0]                                                      \n",
      "19  [0.98367345, 0.9832599, 0.9699612, 0.96732676, 0.9592668, 0.9338565, 0.91231734, 0.94747084, 0.8983573, 0.9444995]    \n",
      "--------------------------------------------------\n",
      "generator history:\n",
      "    phase  epoch  FakeAccuracy     loss_G     RunTime\n",
      "0   train  1      0.006767      2.502722   220.525107\n",
      "1   test   1      0.006767      2.502722   220.525107\n",
      "2   train  2      0.014167      1.381731   206.529443\n",
      "3   test   2      0.014167      1.381731   206.529443\n",
      "4   train  3      0.013817      1.431848   199.115872\n",
      "5   test   3      0.013817      1.431848   199.115872\n",
      "6   train  4      0.015217      1.854485   208.730808\n",
      "7   test   4      0.015217      1.854485   208.730808\n",
      "8   train  5      0.007417      2.334607   290.799348\n",
      "9   test   5      0.007417      2.334607   290.799348\n",
      "10  train  6      0.004283      2.826751   198.134258\n",
      "11  test   6      0.004283      2.826751   198.134258\n",
      "12  train  7      0.001350      3.622914   198.699831\n",
      "13  test   7      0.001350      3.622914   198.699831\n",
      "14  train  8      0.000350      5.230105   198.135428\n",
      "15  test   8      0.000350      5.230105   198.135428\n",
      "16  train  9      0.000133      8.441568   198.422370\n",
      "17  test   9      0.000133      8.441568   198.422370\n",
      "18  train  10     0.000033      10.367474  213.734220\n",
      "19  test   10     0.000033      10.367474  213.734220\n"
     ]
    }
   ],
   "source": [
    "with pd.option_context('display.max_rows', None, 'display.max_columns', None, 'display.max_colwidth', -1):\n",
    "    print('discriminator history:')\n",
    "    print(t.history['D'].to_df())\n",
    "    print('-' * 50)\n",
    "    print('generator history:')\n",
    "    print(t.history['G'].to_df())"
   ]
  },
  {
   "cell_type": "code",
   "execution_count": null,
   "metadata": {
    "colab": {},
    "colab_type": "code",
    "id": "X3P71b2ThWl4"
   },
   "outputs": [],
   "source": [
    "t.save(name=s, path='./')"
   ]
  }
 ],
 "metadata": {
  "accelerator": "GPU",
  "colab": {
   "collapsed_sections": [],
   "name": "ssgan_notebook.ipynb",
   "provenance": []
  },
  "kernelspec": {
   "display_name": "Python 3",
   "language": "python",
   "name": "python3"
  },
  "language_info": {
   "codemirror_mode": {
    "name": "ipython",
    "version": 3
   },
   "file_extension": ".py",
   "mimetype": "text/x-python",
   "name": "python",
   "nbconvert_exporter": "python",
   "pygments_lexer": "ipython3",
   "version": "3.7.1"
  }
 },
 "nbformat": 4,
 "nbformat_minor": 1
}
